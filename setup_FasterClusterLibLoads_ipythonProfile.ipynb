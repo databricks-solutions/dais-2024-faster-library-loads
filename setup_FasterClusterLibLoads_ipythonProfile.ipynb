{
 "cells": [
  {
   "cell_type": "markdown",
   "metadata": {
    "application/vnd.databricks.v1+cell": {
     "cellMetadata": {},
     "inputWidgets": {},
     "nuid": "0f10c83e-ac1b-486e-8236-e491f166c33f",
     "showTitle": false,
     "tableResultSettingsMap": {},
     "title": ""
    }
   },
   "source": [
    "## Overview of how to set up mounted path and pre-install libraries/packages:\n",
    "\n",
    "1. Establish a standard convention within your Organization and your shared workspace for `{project}/{dbr_version}/{Library}` &/or `{.ipython/profile/startup}` paths   \n",
    "\n",
    "2. Install libraries and packages in the path identified above as `PYTHON_LIB_PATH_MOUNTED`   \n",
    "\n",
    "3. Set up Cluster Configs:  \n",
    "    - Create a `.ipython/profile_{pyenv}/startup/00_{pyenv}.py`file which executes the command to append `PYTHON_LIB_PATH_MOUNTED` with pre-installed python libraries to `sys.path()`.  \n",
    "\n",
    "    - 3A [Recommended]: Set the Cluster Init Scripts with path to Volumes Init Script, which will create a symbolic `IPYTHON_PROFILE_PATH/startup` and `/root/ipython/profile_default/startup` paths.       \n",
    "    - 3B [Alternative]: Create a Cluster Environment variable `IPYTHON_PROFILE_DIR` and set the  Cluster Init Scripts with path to Volumes Init Script, which will create a symbolic `IPYTHON_PROFILE_DIR/startup` and `/root/ipython/profile_default/startup` paths       \n",
    "\n",
    "\n",
    "##### Post Installation of Library/Packages + Cluster Init Script / Environment Variable set up\n",
    "With our Libs pre-installed + Cluster Init Script (via Volumes) and if required, Cluster Environment Variable set up, we will now make sure that the mounted path is `Read-Only`:   \n",
    "\n",
    "4. Unmount + Remount Storage onto DBFS with Read-Only permissions     \n",
    "\n",
    "5. Post Compute re-start/updates .... [TEST] Python_library loads!"
   ]
  },
  {
   "cell_type": "markdown",
   "metadata": {
    "application/vnd.databricks.v1+cell": {
     "cellMetadata": {},
     "inputWidgets": {},
     "nuid": "fed0608e-cf04-4c7a-b103-8ebd7b6606e3",
     "showTitle": false,
     "tableResultSettingsMap": {},
     "title": ""
    }
   },
   "source": [
    "### 1. Establish a standard convention within your Organization and your shared workspace for `{project}/{dbr_version}/{Library}` &/or `{.ipython/profile/}` paths"
   ]
  },
  {
   "cell_type": "code",
   "execution_count": 0,
   "metadata": {
    "application/vnd.databricks.v1+cell": {
     "cellMetadata": {},
     "inputWidgets": {},
     "nuid": "ca53ec1e-a511-42f7-885c-868d8860119e",
     "showTitle": true,
     "tableResultSettingsMap": {},
     "title": "Folder paths to organize project | dbr_version | libraries"
    }
   },
   "outputs": [],
   "source": [
    "PROJECT_GROUP = \"dais24_demo\" \n",
    "PROJECT_DIR = \"faster_lib_loads\"\n",
    "DBR_VERSION = \"13.3LTS_ML\" \n",
    "\n",
    "PATH_MOUNTED = f\"/mnt/{PROJECT_GROUP}/\" ## points to blobContainerName = \"dais24\" \n",
    "PYTHON_LIB_PATH_MOUNTED = f\"/mnt/{PROJECT_GROUP}/{PROJECT_DIR}/{DBR_VERSION}/libs/python/\" \n",
    "\n",
    "IPYTHON_PROFILE_PATH = f\"/mnt/{PROJECT_GROUP}/{PROJECT_DIR}/{DBR_VERSION}/clusterEnv/.ipython/profile_pyenv/\"\n",
    "\n",
    "print('PATH_MOUNTED :', PATH_MOUNTED)\n",
    "print('PYTHON_LIB_PATH_MOUNTED :', PYTHON_LIB_PATH_MOUNTED)\n",
    "print('IPYTHON_PROFILE_PATH :', IPYTHON_PROFILE_PATH)\n"
   ]
  },
  {
   "cell_type": "markdown",
   "metadata": {
    "application/vnd.databricks.v1+cell": {
     "cellMetadata": {},
     "inputWidgets": {},
     "nuid": "c501c306-d53e-46f8-a50c-4f344aa08e1c",
     "showTitle": true,
     "tableResultSettingsMap": {},
     "title": "Blob Storage to associate PATH_MOUNTED  as dbfs/mnt path to install specific library  packages"
    }
   },
   "source": [
    "![Access Cloud Storage](./markdown_images/access_storage_container.png)\n",
    "\n",
    "<!-- from IPython.display import Image\n",
    "Image(filename=\"/Workspace/Users/{username@email.com}/Faster_Lib_Loads/markdown_images/access_storage_container.png\", width=1600) -->"
   ]
  },
  {
   "cell_type": "markdown",
   "metadata": {
    "application/vnd.databricks.v1+cell": {
     "cellMetadata": {},
     "inputWidgets": {},
     "nuid": "44411d2d-affb-47a4-9c3d-7e3fa777681b",
     "showTitle": true,
     "tableResultSettingsMap": {},
     "title": "Create Shared Access Tokens"
    }
   },
   "source": [
    "![generateSAStoken](./markdown_images/generateSAStoken.png)\n",
    "\n",
    "<!-- %python\n",
    "from IPython.display import Image\n",
    "Image(filename=\"/Workspace/Users/{username@email.com}/Faster_Lib_Loads/markdown_images/generateSAStoken.png\", width=1600) -->"
   ]
  },
  {
   "cell_type": "code",
   "execution_count": 0,
   "metadata": {
    "application/vnd.databricks.v1+cell": {
     "cellMetadata": {},
     "inputWidgets": {},
     "nuid": "4f73e213-eb3e-4bf8-b785-ff58765ebabe",
     "showTitle": true,
     "tableResultSettingsMap": {},
     "title": "readNwrite | read-only secrets are pre-configured to user/group scope"
    }
   },
   "outputs": [],
   "source": [
    "secret_scope_name = \"dais24_fasterlibloads\" \n",
    "dbutils.secrets.list(f'{secret_scope_name}') "
   ]
  },
  {
   "cell_type": "code",
   "execution_count": 0,
   "metadata": {
    "application/vnd.databricks.v1+cell": {
     "cellMetadata": {},
     "inputWidgets": {},
     "nuid": "1e5c282d-704d-4b75-ab22-f24c43e88be0",
     "showTitle": true,
     "tableResultSettingsMap": {},
     "title": "Function to mount with Shared Access Tokens stored as Scope Secrets "
    }
   },
   "outputs": [],
   "source": [
    "storageAccountName = \"hlsfieldexternal\"\n",
    "blobContainerName = \"dais24\" \n",
    "secret_scope_name = \"dais24_fasterlibloads\"\n",
    "r_sasToken = dbutils.secrets.get(f'{secret_scope_name}','r_token')\n",
    "rwr_sasToken = dbutils.secrets.get(f'{secret_scope_name}','rwr_token')\n",
    "\n",
    "mountPoint = PATH_MOUNTED \n",
    "\n",
    "def mount_azblob(storageAccountName, blobContainerName, mountPoint, sasToken):\n",
    "\n",
    "  # first unmount if already mounted \n",
    "  if any(mount.mountPoint == mountPoint for mount in dbutils.fs.mounts()):\n",
    "    dbutils.fs.unmount(mountPoint)\n",
    "    \n",
    "  try:\n",
    "    # mount to specified mountPoint\n",
    "    dbutils.fs.mount(\n",
    "      source = f\"wasbs://{blobContainerName}@{storageAccountName}.blob.core.windows.net\",\n",
    "      mount_point = mountPoint,    \n",
    "      extra_configs = {f\"fs.azure.sas.{blobContainerName}.{storageAccountName}.blob.core.windows.net\": sasToken}\n",
    "    )\n",
    "    print(\"mount succeeded!\")\n",
    "  except Exception as e:\n",
    "    print(\"mount exception\", e)\n",
    "\n",
    "    dbutils.fs.refreshMounts()"
   ]
  },
  {
   "cell_type": "code",
   "execution_count": 0,
   "metadata": {
    "application/vnd.databricks.v1+cell": {
     "cellMetadata": {},
     "inputWidgets": {},
     "nuid": "137165f1-af7c-4ecb-9806-611d8fb20ac9",
     "showTitle": true,
     "tableResultSettingsMap": {},
     "title": "mount with rwr_sasToken"
    }
   },
   "outputs": [],
   "source": [
    "mount_azblob(storageAccountName, blobContainerName, mountPoint, rwr_sasToken)"
   ]
  },
  {
   "cell_type": "code",
   "execution_count": 0,
   "metadata": {
    "application/vnd.databricks.v1+cell": {
     "cellMetadata": {},
     "inputWidgets": {},
     "nuid": "9bebea1c-3fdd-42d1-bfc0-c83d91c7d04e",
     "showTitle": true,
     "tableResultSettingsMap": {},
     "title": "Check mounts"
    }
   },
   "outputs": [],
   "source": [
    "[p for p in dbutils.fs.mounts() if f\"{blobContainerName}\" in p.source]"
   ]
  },
  {
   "cell_type": "code",
   "execution_count": 0,
   "metadata": {
    "application/vnd.databricks.v1+cell": {
     "cellMetadata": {},
     "inputWidgets": {},
     "nuid": "4bc57b2b-dffd-42e6-b037-c5490a0318bb",
     "showTitle": false,
     "tableResultSettingsMap": {},
     "title": ""
    }
   },
   "outputs": [],
   "source": [
    "print(PATH_MOUNTED)\n",
    "display(dbutils.fs.ls(f'{PATH_MOUNTED}'))"
   ]
  },
  {
   "cell_type": "code",
   "execution_count": 0,
   "metadata": {
    "application/vnd.databricks.v1+cell": {
     "cellMetadata": {},
     "inputWidgets": {},
     "nuid": "7eed0018-ee42-4849-be43-6de8eaeb2c64",
     "showTitle": false,
     "tableResultSettingsMap": {},
     "title": ""
    }
   },
   "outputs": [],
   "source": [
    "PYTHON_LIB_PATH_MOUNTED"
   ]
  },
  {
   "cell_type": "markdown",
   "metadata": {
    "application/vnd.databricks.v1+cell": {
     "cellMetadata": {},
     "inputWidgets": {},
     "nuid": "4903fedc-709f-4a63-9da4-ec07c9114848",
     "showTitle": false,
     "tableResultSettingsMap": {},
     "title": ""
    }
   },
   "source": [
    "### 2. Install libraries and packages in the path identified above as `PYTHON_LIB_PATH_MOUNTED`. "
   ]
  },
  {
   "cell_type": "code",
   "execution_count": 0,
   "metadata": {
    "application/vnd.databricks.v1+cell": {
     "cellMetadata": {},
     "inputWidgets": {},
     "nuid": "33717ced-8b14-4515-975a-544ea5625791",
     "showTitle": true,
     "tableResultSettingsMap": {},
     "title": "If not already exist, mkdirs for path to install libraries"
    }
   },
   "outputs": [],
   "source": [
    "dbutils.fs.mkdirs(f\"{PYTHON_LIB_PATH_MOUNTED}\")"
   ]
  },
  {
   "cell_type": "markdown",
   "metadata": {
    "application/vnd.databricks.v1+cell": {
     "cellMetadata": {},
     "inputWidgets": {},
     "nuid": "a1755fcf-8c4b-4732-97ed-f6ccbf0f755c",
     "showTitle": false,
     "tableResultSettingsMap": {},
     "title": ""
    }
   },
   "source": [
    "#### 2.1 Create os.environ target path variable for use with pip install\n",
    "- NB: `/dbfs` prefix is required for correct path location "
   ]
  },
  {
   "cell_type": "code",
   "execution_count": 0,
   "metadata": {
    "application/vnd.databricks.v1+cell": {
     "cellMetadata": {},
     "inputWidgets": {},
     "nuid": "2f0e4d02-a2b2-4dc0-8103-79ea0997320d",
     "showTitle": true,
     "tableResultSettingsMap": {},
     "title": "Create os.environ path variable "
    }
   },
   "outputs": [],
   "source": [
    "import os\n",
    "os.environ[\"PYTHON_LIB_PATH_MOUNTED\"]=f'/dbfs{PYTHON_LIB_PATH_MOUNTED}'\n",
    "os.environ[\"PYTHON_LIB_PATH_MOUNTED\"]"
   ]
  },
  {
   "cell_type": "code",
   "execution_count": 0,
   "metadata": {
    "application/vnd.databricks.v1+cell": {
     "cellMetadata": {},
     "inputWidgets": {},
     "nuid": "41a1c36d-2ad4-46ef-b0ed-5d63de57f9f5",
     "showTitle": false,
     "tableResultSettingsMap": {},
     "title": ""
    }
   },
   "outputs": [],
   "source": [
    "%sh echo $PYTHON_LIB_PATH_MOUNTED"
   ]
  },
  {
   "cell_type": "markdown",
   "metadata": {
    "application/vnd.databricks.v1+cell": {
     "cellMetadata": {},
     "inputWidgets": {},
     "nuid": "a6ff3a67-f83d-448d-9d45-4fbdf77accf7",
     "showTitle": false,
     "tableResultSettingsMap": {},
     "title": ""
    }
   },
   "source": [
    "#### 2.2 Install libraries of interest to `$PYTHON_LIB_PATH_MOUNTED`"
   ]
  },
  {
   "cell_type": "code",
   "execution_count": 0,
   "metadata": {
    "application/vnd.databricks.v1+cell": {
     "cellMetadata": {},
     "inputWidgets": {},
     "nuid": "bfaf2aa3-cc4d-4107-a7e0-4c943d19f687",
     "showTitle": true,
     "tableResultSettingsMap": {},
     "title": "Update pip + install libs "
    }
   },
   "outputs": [],
   "source": [
    "%sh pip install --upgrade pip"
   ]
  },
  {
   "cell_type": "markdown",
   "metadata": {
    "application/vnd.databricks.v1+cell": {
     "cellMetadata": {},
     "inputWidgets": {},
     "nuid": "4ff6afa7-955e-4946-87e7-19451504ad8c",
     "showTitle": false,
     "tableResultSettingsMap": {},
     "title": ""
    }
   },
   "source": [
    "#### 2.2.1 Check that libraries aren't already installed on cluster by default "
   ]
  },
  {
   "cell_type": "code",
   "execution_count": 0,
   "metadata": {
    "application/vnd.databricks.v1+cell": {
     "cellMetadata": {},
     "inputWidgets": {},
     "nuid": "9cddba57-1da3-4dd1-87f0-c495b9fcba6e",
     "showTitle": false,
     "tableResultSettingsMap": {},
     "title": "check that libs aren't installed on cluster"
    }
   },
   "outputs": [],
   "source": [
    "import easydict"
   ]
  },
  {
   "cell_type": "code",
   "execution_count": 0,
   "metadata": {
    "application/vnd.databricks.v1+cell": {
     "cellMetadata": {},
     "inputWidgets": {},
     "nuid": "80098230-155b-4eb0-8332-94c503f1be48",
     "showTitle": false,
     "tableResultSettingsMap": {},
     "title": ""
    }
   },
   "outputs": [],
   "source": [
    "import torch_scatter"
   ]
  },
  {
   "cell_type": "code",
   "execution_count": 0,
   "metadata": {
    "application/vnd.databricks.v1+cell": {
     "cellMetadata": {},
     "inputWidgets": {},
     "nuid": "eb060274-0196-4c98-aa15-44c52f1fa858",
     "showTitle": false,
     "tableResultSettingsMap": {},
     "title": ""
    }
   },
   "outputs": [],
   "source": [
    "import torch_sparse"
   ]
  },
  {
   "cell_type": "code",
   "execution_count": 0,
   "metadata": {
    "application/vnd.databricks.v1+cell": {
     "cellMetadata": {},
     "inputWidgets": {},
     "nuid": "7bad9a32-58b8-4abb-86bc-5f496820789e",
     "showTitle": false,
     "tableResultSettingsMap": {},
     "title": ""
    }
   },
   "outputs": [],
   "source": [
    "import torch_spline_conv"
   ]
  },
  {
   "cell_type": "code",
   "execution_count": 0,
   "metadata": {
    "application/vnd.databricks.v1+cell": {
     "cellMetadata": {},
     "inputWidgets": {},
     "nuid": "7765bb3c-a9e1-4503-aed3-def38b76abbc",
     "showTitle": false,
     "tableResultSettingsMap": {},
     "title": ""
    }
   },
   "outputs": [],
   "source": [
    "import torch_geometric"
   ]
  },
  {
   "cell_type": "markdown",
   "metadata": {
    "application/vnd.databricks.v1+cell": {
     "cellMetadata": {},
     "inputWidgets": {},
     "nuid": "2fa2999f-7476-47a4-9129-132ad4627eb3",
     "showTitle": false,
     "tableResultSettingsMap": {},
     "title": ""
    }
   },
   "source": [
    "#### 2.2.2 Install libraries to `$PYTHON_LIB_PATH_MOUNTED`"
   ]
  },
  {
   "cell_type": "code",
   "execution_count": 0,
   "metadata": {
    "application/vnd.databricks.v1+cell": {
     "cellMetadata": {},
     "inputWidgets": {},
     "nuid": "68498102-953a-4b14-ab91-2dfe1d68d783",
     "showTitle": true,
     "tableResultSettingsMap": {},
     "title": "Libs 2 install"
    }
   },
   "outputs": [],
   "source": [
    "# easydict torch-scatter torch-sparse torch-spline-conv torch_geometric\n",
    "\n",
    "# Install commands took in total approx. ~45mins to install "
   ]
  },
  {
   "cell_type": "code",
   "execution_count": 0,
   "metadata": {
    "application/vnd.databricks.v1+cell": {
     "cellMetadata": {},
     "inputWidgets": {},
     "nuid": "51f076f0-642c-4a2a-bf1d-362c2ec48a6f",
     "showTitle": true,
     "tableResultSettingsMap": {},
     "title": "install easydict"
    }
   },
   "outputs": [],
   "source": [
    "%sh pip install --upgrade easydict --target=$PYTHON_LIB_PATH_MOUNTED"
   ]
  },
  {
   "cell_type": "code",
   "execution_count": 0,
   "metadata": {
    "application/vnd.databricks.v1+cell": {
     "cellMetadata": {},
     "inputWidgets": {},
     "nuid": "b672e525-264e-44d9-95bc-a8ab8c74786c",
     "showTitle": true,
     "tableResultSettingsMap": {},
     "title": "install torch-scatter"
    }
   },
   "outputs": [],
   "source": [
    "%sh pip install --upgrade torch-scatter --target=$PYTHON_LIB_PATH_MOUNTED --verbose"
   ]
  },
  {
   "cell_type": "code",
   "execution_count": 0,
   "metadata": {
    "application/vnd.databricks.v1+cell": {
     "cellMetadata": {},
     "inputWidgets": {},
     "nuid": "fcd73aa7-308e-401e-8ddb-56c88046d4e2",
     "showTitle": true,
     "tableResultSettingsMap": {},
     "title": "install torch-sparse"
    }
   },
   "outputs": [],
   "source": [
    "%sh pip install --upgrade torch-sparse --target=$PYTHON_LIB_PATH_MOUNTED --verbose"
   ]
  },
  {
   "cell_type": "code",
   "execution_count": 0,
   "metadata": {
    "application/vnd.databricks.v1+cell": {
     "cellMetadata": {},
     "inputWidgets": {},
     "nuid": "c6a347ae-8dcc-4edf-929b-c800ffe6e69f",
     "showTitle": true,
     "tableResultSettingsMap": {},
     "title": "install torch-spline-conv"
    }
   },
   "outputs": [],
   "source": [
    "%sh pip install --upgrade torch-spline-conv --target=$PYTHON_LIB_PATH_MOUNTED --verbose"
   ]
  },
  {
   "cell_type": "code",
   "execution_count": 0,
   "metadata": {
    "application/vnd.databricks.v1+cell": {
     "cellMetadata": {},
     "inputWidgets": {},
     "nuid": "c939d544-6a12-45e8-b7b0-5059b9045880",
     "showTitle": true,
     "tableResultSettingsMap": {},
     "title": "- check cuda version for torch_geometric"
    }
   },
   "outputs": [],
   "source": [
    "%sh ls -l /usr/local | grep cuda"
   ]
  },
  {
   "cell_type": "code",
   "execution_count": 0,
   "metadata": {
    "application/vnd.databricks.v1+cell": {
     "cellMetadata": {},
     "inputWidgets": {},
     "nuid": "87bc9e5e-bb8e-4830-87cd-f3413268dfae",
     "showTitle": true,
     "tableResultSettingsMap": {},
     "title": "- check torch version for torch_geometric"
    }
   },
   "outputs": [],
   "source": [
    "import torch;\n",
    "torch.__version__ #'1.13.1+cu117'"
   ]
  },
  {
   "cell_type": "code",
   "execution_count": 0,
   "metadata": {
    "application/vnd.databricks.v1+cell": {
     "cellMetadata": {},
     "inputWidgets": {},
     "nuid": "04e82e16-b362-4b20-ae58-9245e2daea06",
     "showTitle": true,
     "tableResultSettingsMap": {},
     "title": "install torch_geometric"
    }
   },
   "outputs": [],
   "source": [
    "%sh pip install torch_geometric --target=$PYTHON_LIB_PATH_MOUNTED --verbose"
   ]
  },
  {
   "cell_type": "code",
   "execution_count": 0,
   "metadata": {
    "application/vnd.databricks.v1+cell": {
     "cellMetadata": {},
     "inputWidgets": {},
     "nuid": "e6c64053-a8bb-4448-bf62-cd05df2e38b9",
     "showTitle": false,
     "tableResultSettingsMap": {},
     "title": ""
    }
   },
   "outputs": [],
   "source": [
    "# dbutils.library.restartPython()"
   ]
  },
  {
   "cell_type": "code",
   "execution_count": 0,
   "metadata": {
    "application/vnd.databricks.v1+cell": {
     "cellMetadata": {},
     "inputWidgets": {},
     "nuid": "c133aac4-8b90-4706-8f35-86fc123ec59d",
     "showTitle": true,
     "tableResultSettingsMap": {},
     "title": "Check libs installed "
    }
   },
   "outputs": [],
   "source": [
    "display(dbutils.fs.ls(f\"{PYTHON_LIB_PATH_MOUNTED}\")) "
   ]
  },
  {
   "cell_type": "markdown",
   "metadata": {
    "application/vnd.databricks.v1+cell": {
     "cellMetadata": {},
     "inputWidgets": {},
     "nuid": "3a26466f-060a-41ef-97ea-9919a162dcf5",
     "showTitle": false,
     "tableResultSettingsMap": {},
     "title": ""
    }
   },
   "source": [
    "#### 2.3 Append mounted path with pre-installed libraries to `sys.path`"
   ]
  },
  {
   "cell_type": "code",
   "execution_count": 0,
   "metadata": {
    "application/vnd.databricks.v1+cell": {
     "cellMetadata": {},
     "inputWidgets": {},
     "nuid": "5300a908-33eb-476c-a317-2a94b24926a7",
     "showTitle": true,
     "tableResultSettingsMap": {},
     "title": "Append PYTHON_LIB_PATH_MOUNTED to `sys.path`"
    }
   },
   "outputs": [],
   "source": [
    "import sys\n",
    "sys.path.append(f\"/dbfs{PYTHON_LIB_PATH_MOUNTED}\") "
   ]
  },
  {
   "cell_type": "code",
   "execution_count": 0,
   "metadata": {
    "application/vnd.databricks.v1+cell": {
     "cellMetadata": {},
     "inputWidgets": {},
     "nuid": "937a9464-4db3-4922-9585-4faaebc52de1",
     "showTitle": true,
     "tableResultSettingsMap": {},
     "title": "Check sys.path for appended path "
    }
   },
   "outputs": [],
   "source": [
    "sys.path"
   ]
  },
  {
   "cell_type": "markdown",
   "metadata": {
    "application/vnd.databricks.v1+cell": {
     "cellMetadata": {},
     "inputWidgets": {},
     "nuid": "2888c198-c1f9-4728-9327-fe19a9c32ae5",
     "showTitle": false,
     "tableResultSettingsMap": {},
     "title": ""
    }
   },
   "source": [
    "#### 2.4 Quick test of appended mounted path with pre-installed libraries to sys.path"
   ]
  },
  {
   "cell_type": "code",
   "execution_count": 0,
   "metadata": {
    "application/vnd.databricks.v1+cell": {
     "cellMetadata": {},
     "inputWidgets": {},
     "nuid": "957ae09d-e25e-4204-8b96-f28dca1752a3",
     "showTitle": true,
     "tableResultSettingsMap": {},
     "title": "Test library import"
    }
   },
   "outputs": [],
   "source": [
    "import os\n",
    "import torch_geometric\n",
    "path = os.path.abspath(torch_geometric.__file__)\n",
    "path"
   ]
  },
  {
   "cell_type": "code",
   "execution_count": 0,
   "metadata": {
    "application/vnd.databricks.v1+cell": {
     "cellMetadata": {},
     "inputWidgets": {},
     "nuid": "51074aa9-f43d-4899-a322-f04038f3d77f",
     "showTitle": false,
     "tableResultSettingsMap": {},
     "title": "Test import "
    }
   },
   "outputs": [],
   "source": [
    "from torch_geometric.data import Data, InMemoryDataset, DataLoader\n",
    "from torch_geometric.nn import NNConv, BatchNorm, EdgePooling, TopKPooling, global_add_pool\n",
    "from torch_geometric.utils import get_laplacian, to_dense_adj"
   ]
  },
  {
   "cell_type": "code",
   "execution_count": 0,
   "metadata": {
    "application/vnd.databricks.v1+cell": {
     "cellMetadata": {},
     "inputWidgets": {},
     "nuid": "4cf77c39-056c-402e-a0da-40c19ad74fa6",
     "showTitle": false,
     "tableResultSettingsMap": {},
     "title": ""
    }
   },
   "outputs": [],
   "source": [
    "import torch\n",
    "import torch.nn as nn\n",
    "import torch.nn.functional as F\n",
    "from torch.nn import Sequential, Linear, ReLU, Sigmoid, Tanh, Dropout, LeakyReLU\n",
    "from torch.autograd import Variable\n",
    "from torch.distributions import normal, kl"
   ]
  },
  {
   "cell_type": "code",
   "execution_count": 0,
   "metadata": {
    "application/vnd.databricks.v1+cell": {
     "cellMetadata": {},
     "inputWidgets": {},
     "nuid": "4f368e06-89a6-4eb4-a6ba-3a60ee4b9a4b",
     "showTitle": false,
     "tableResultSettingsMap": {},
     "title": ""
    }
   },
   "outputs": [],
   "source": [
    "display(dbutils.fs.ls(f\"{PYTHON_LIB_PATH_MOUNTED}\"))"
   ]
  },
  {
   "cell_type": "markdown",
   "metadata": {
    "application/vnd.databricks.v1+cell": {
     "cellMetadata": {},
     "inputWidgets": {},
     "nuid": "6e463495-1597-4591-ba11-a5d62cbb03a4",
     "showTitle": false,
     "tableResultSettingsMap": {},
     "title": ""
    }
   },
   "source": [
    "### 3. Set the Cluster Environment variable:\n",
    "\n",
    "We will leverage the unique properties of the default `{##}_{filename}.py` files within `/root/.ipython/profile_default/startup/` path ([Ref](https://ipython.readthedocs.io/en/stable/interactive/tutorial.html#startup-files)).      \n",
    "\n",
    "By symbolically linking our corresponding `IPYTHON_PROFILE_PATH` to the default `/root/.ipython/profile_default/startup/` path, our \"bespoke\" `.ipython/profile_pyenv/startup/00_pyenv.py` will execute our desired code for appending the `PYTHON_LIB_PATH_MOUNTED` with pre-installed python libraries to `sys.path()` during cluster initialization. \n",
    "\n",
    "To achieve this, we will: \n",
    "\n",
    " - [3.1] Create a workspace `.ipython/profile/startup/00_pyenv.py` file which executes the command to append `PYTHON_LIB_PATH_MOUNTED` with pre-installed python libraries to `sys.path()`.  \n",
    "\n",
    " - [3.2] Copy the workspace `.ipython/profile/startup` files to our mounted external cloud storage `IPYTHON_PROFILE_PATH` with similar folder structure.  \n",
    "\n",
    " - [3.3] Use `init.sh` script in UC Volumes to create symbolic link between `{IPYTHON_PROFILE_PATH or IPYTHON_PROFILE_DIR}/startup` and `/root/ipython/profile_default/startup` paths.    \n",
    "\n",
    "    This can be in the following form:   \n",
    "     - [A] Direct association between `IPYTHON_PROFILE_PATH` to the default `/root/.ipython/profile_default/startup/` path.    \n",
    "\n",
    "     - [B] Creating a Cluster Environment Variable : `IPYTHON_PROFILE_DIR` and associating `IPYTHON_PROFILE_DIR` to the default `/root/.ipython/profile_default/startup/` path -- this option means that you can update the cluster Advanced Environmental Variable without having to code-update the `init.sh` files.\n",
    "\n"
   ]
  },
  {
   "cell_type": "markdown",
   "metadata": {
    "application/vnd.databricks.v1+cell": {
     "cellMetadata": {},
     "inputWidgets": {},
     "nuid": "9381b522-89f7-485f-b92d-5f62fcffdbf5",
     "showTitle": false,
     "tableResultSettingsMap": {},
     "title": ""
    }
   },
   "source": [
    "#### 3.1 Create a workspace `.ipython/profile/startup/00_pyenv.py` file which executes the command to append `PYTHON_LIB_PATH_MOUNTED` with pre-installed python libraries to `sys.path()`."
   ]
  },
  {
   "cell_type": "code",
   "execution_count": 0,
   "metadata": {
    "application/vnd.databricks.v1+cell": {
     "cellMetadata": {},
     "inputWidgets": {},
     "nuid": "8582aa36-b6ae-4821-b2eb-b934d08df45f",
     "showTitle": true,
     "tableResultSettingsMap": {},
     "title": "Create a workspace .ipython/profile_pyenv/startup/00_pyenv.py with the following code:"
    }
   },
   "outputs": [],
   "source": [
    "%sh head /Workspace/Users/{username@email.com}/Faster_Lib_Loads/.ipython/profile_pyenv/startup/00_pyenv.py"
   ]
  },
  {
   "cell_type": "code",
   "execution_count": 0,
   "metadata": {
    "application/vnd.databricks.v1+cell": {
     "cellMetadata": {},
     "inputWidgets": {},
     "nuid": "de58e9b5-647f-4c53-8372-5e7a87d8910c",
     "showTitle": true,
     "tableResultSettingsMap": {},
     "title": "Structure of the .ipython/profile_pyenv/startup/ folder also includes a README "
    }
   },
   "outputs": [],
   "source": [
    "%sh ls -lah /Workspace/Users/{username@email.com}/Faster_Lib_Loads/.ipython/profile_pyenv/startup/"
   ]
  },
  {
   "cell_type": "code",
   "execution_count": 0,
   "metadata": {
    "application/vnd.databricks.v1+cell": {
     "cellMetadata": {},
     "inputWidgets": {},
     "nuid": "4d8ca6c3-b484-4a23-a35b-c73f3e9595a7",
     "showTitle": true,
     "tableResultSettingsMap": {},
     "title": ".ipython/profile_pyenv/startup/README details:"
    }
   },
   "outputs": [],
   "source": [
    "%sh head /Workspace/Users/{username@email.com}/Faster_Lib_Loads/.ipython/profile_pyenv/startup/README"
   ]
  },
  {
   "cell_type": "markdown",
   "metadata": {
    "application/vnd.databricks.v1+cell": {
     "cellMetadata": {},
     "inputWidgets": {},
     "nuid": "c8407c3d-167b-4cba-a32f-22eb20a0c5b1",
     "showTitle": false,
     "tableResultSettingsMap": {},
     "title": ""
    }
   },
   "source": [
    "#### 3.2 Copy the workspace `ipython/profile/startup` files to our mounted external cloud storage `IPYTHON_PROFILE_PATH` with similar folder structure.  "
   ]
  },
  {
   "cell_type": "code",
   "execution_count": 0,
   "metadata": {
    "application/vnd.databricks.v1+cell": {
     "cellMetadata": {},
     "inputWidgets": {},
     "nuid": "53d6bd3d-92cf-44cb-b0db-339fa2db7075",
     "showTitle": true,
     "tableResultSettingsMap": {},
     "title": "copy workspace .ipython/profile_pyenv folder to mounted IPYTHON_PROFILE_PATH"
    }
   },
   "outputs": [],
   "source": [
    "%sh cp -r /Workspace/Users/{username@email.com}/Faster_Lib_Loads/.ipython/profile_pyenv /dbfs/mnt/dais24_demo/faster_lib_loads/13.3LTS_ML/clusterEnv/.ipython/"
   ]
  },
  {
   "cell_type": "code",
   "execution_count": 0,
   "metadata": {
    "application/vnd.databricks.v1+cell": {
     "cellMetadata": {},
     "inputWidgets": {},
     "nuid": "a573bc66-b575-4226-a24e-856110556783",
     "showTitle": true,
     "tableResultSettingsMap": {},
     "title": "check copied startup/00_pyenv.py script"
    }
   },
   "outputs": [],
   "source": [
    "%fs head dbfs:/mnt/dais24_demo/faster_lib_loads/13.3LTS_ML/clusterEnv/.ipython/profile_pyenv/startup/00_pyenv.py"
   ]
  },
  {
   "cell_type": "markdown",
   "metadata": {
    "application/vnd.databricks.v1+cell": {
     "cellMetadata": {},
     "inputWidgets": {},
     "nuid": "cc8e1f2d-880b-4dfe-87a8-b1f4fe75eaf7",
     "showTitle": false,
     "tableResultSettingsMap": {},
     "title": ""
    }
   },
   "source": [
    "#### 3.3A Use init.sh scripts in UC Volumes to create symbolic link between `IPYTHON_PROFILE_PATH/startup` and `/root/ipython/profile_default/startup` paths. "
   ]
  },
  {
   "cell_type": "code",
   "execution_count": 0,
   "metadata": {
    "application/vnd.databricks.v1+cell": {
     "cellMetadata": {},
     "inputWidgets": {},
     "nuid": "f7f3df7f-cb0d-4c85-9cbb-08faee0b7bd0",
     "showTitle": true,
     "tableResultSettingsMap": {},
     "title": "[3A.1] init script : create symbolic link for mounted IPYTHON_PROFILE_PATH/startup to /root/ipython/profile_default/startup path"
    }
   },
   "outputs": [],
   "source": [
    "!head /Workspace/Users/{username@email.com}/Faster_Lib_Loads/.ipython/ipython_profile_symlink2mnt_init.sh"
   ]
  },
  {
   "cell_type": "code",
   "execution_count": 0,
   "metadata": {
    "application/vnd.databricks.v1+cell": {
     "cellMetadata": {},
     "inputWidgets": {},
     "nuid": "baeebc74-1eaf-4f09-8cb3-b29762317b4d",
     "showTitle": true,
     "tableResultSettingsMap": {},
     "title": "[3A.2] copy workspace .init file to UC Volumes path to init_scripts"
    }
   },
   "outputs": [],
   "source": [
    "!cp -r /Workspace/Users/{username@email.com}/Faster_Lib_Loads/.ipython/ipython_profile_symlink2mnt_init.sh /Volumes/mmt_external/dais24/ext_vols/init_scripts/"
   ]
  },
  {
   "cell_type": "code",
   "execution_count": 0,
   "metadata": {
    "application/vnd.databricks.v1+cell": {
     "cellMetadata": {},
     "inputWidgets": {},
     "nuid": "9421eadb-1e1a-415f-aaf0-a816acf4345c",
     "showTitle": true,
     "tableResultSettingsMap": {},
     "title": "[3A.3] check copied .init file content"
    }
   },
   "outputs": [],
   "source": [
    "print(dbutils.fs.head(\"/Volumes/mmt_external/dais24/ext_vols/init_scripts/ipython_profile_symlink2mnt_init.sh\"))"
   ]
  },
  {
   "cell_type": "code",
   "execution_count": 0,
   "metadata": {
    "application/vnd.databricks.v1+cell": {
     "cellMetadata": {},
     "inputWidgets": {},
     "nuid": "1577e90e-7bc2-4554-af31-fc9ae8fb04a8",
     "showTitle": true,
     "tableResultSettingsMap": {},
     "title": "[3A.4] Add Volumes  init script to Cluster"
    }
   },
   "outputs": [],
   "source": [
    "from IPython.display import Image\n",
    "Image(filename=\"/Workspace/Users/{username@email.com}/Faster_Lib_Loads/markdown_images/cluster_ipython_profile_symlink_initVol.png\", width=1600)"
   ]
  },
  {
   "cell_type": "markdown",
   "metadata": {
    "application/vnd.databricks.v1+cell": {
     "cellMetadata": {},
     "inputWidgets": {},
     "nuid": "7028b654-3a12-48bd-b0af-45efb1d69127",
     "showTitle": false,
     "tableResultSettingsMap": {},
     "title": ""
    }
   },
   "source": [
    "#### 3.3B Use `init.sh` scripts in UC Volumes to create symbolic link between `IPYTHON_PROFILE_DIR/startup` and `/root/ipython/profile_default/startup paths`. "
   ]
  },
  {
   "cell_type": "code",
   "execution_count": 0,
   "metadata": {
    "application/vnd.databricks.v1+cell": {
     "cellMetadata": {},
     "inputWidgets": {},
     "nuid": "7c8ccdf9-1a55-40ad-851f-e12335c37626",
     "showTitle": true,
     "tableResultSettingsMap": {},
     "title": "[3B.1] create an .init script to create symbolic link for Cluster Env. Var IPYTHON_PROFILE_DIR to /root/ipython/profile/startup"
    }
   },
   "outputs": [],
   "source": [
    "!cat /Workspace/Users/{username@email.com}/Faster_Lib_Loads/.ipython/ipython_profile_clusterEnvVar_init.sh"
   ]
  },
  {
   "cell_type": "code",
   "execution_count": 0,
   "metadata": {
    "application/vnd.databricks.v1+cell": {
     "cellMetadata": {},
     "inputWidgets": {},
     "nuid": "88172f7c-b65e-4ed7-87e3-72d7c95c2e8a",
     "showTitle": true,
     "tableResultSettingsMap": {},
     "title": "[3B.2] copy workspace .init file to UC Volumes path to init_scripts"
    }
   },
   "outputs": [],
   "source": [
    "## copy .init script to mounted external UC Volumes path \n",
    "!cp -r /Workspace/Users/{username@email.com}/Faster_Lib_Loads/.ipython/ipython_profile_clusterEnvVar_init.sh /Volumes/mmt_external/dais24/ext_vols/init_scripts/"
   ]
  },
  {
   "cell_type": "code",
   "execution_count": 0,
   "metadata": {
    "application/vnd.databricks.v1+cell": {
     "cellMetadata": {},
     "inputWidgets": {},
     "nuid": "91b6da5b-1f1a-4e19-8d89-740fc6b4f847",
     "showTitle": true,
     "tableResultSettingsMap": {},
     "title": "[3B.3] check copied .init file content"
    }
   },
   "outputs": [],
   "source": [
    "## check contents of coped .init script\n",
    "print(dbutils.fs.head(\"/Volumes/mmt_external/dais24/ext_vols/init_scripts/ipython_profile_clusterEnvVar_init.sh\"))"
   ]
  },
  {
   "cell_type": "markdown",
   "metadata": {
    "application/vnd.databricks.v1+cell": {
     "cellMetadata": {},
     "inputWidgets": {},
     "nuid": "7fdcbc60-c437-481b-961d-55a1e6606452",
     "showTitle": true,
     "tableResultSettingsMap": {},
     "title": "[3B.4] ADD Add Volumes  init script + Adv. Env. Var to Cluster"
    }
   },
   "source": [
    "![cluster_ipython_profile_EnvVar_initVol](./markdown_images/cluster_ipython_profile_EnvVar_initVol.png)\n",
    "\n",
    "<!-- %python\n",
    "from IPython.display import Image\n",
    "Image(filename=\"/Workspace/Users/{username@email.com}/Faster_Lib_Loads/markdown_images/cluster_ipython_profile_EnvVar_initVol.png\", width=1600) -->"
   ]
  },
  {
   "cell_type": "markdown",
   "metadata": {
    "application/vnd.databricks.v1+cell": {
     "cellMetadata": {},
     "inputWidgets": {},
     "nuid": "e2385aef-8471-43c3-b8db-aae48ba2074b",
     "showTitle": false,
     "tableResultSettingsMap": {},
     "title": ""
    }
   },
   "source": [
    "![cluster_ipython_profile_user_EnvVar](./markdown_images/cluster_ipython_profile_user_EnvVar.png)\n",
    "\n",
    "<!-- %python\n",
    "from IPython.display import Image\n",
    "Image(filename=\"/Workspace/Users/{username@email.com}/Faster_Lib_Loads/markdown_images/cluster_ipython_profile_user_EnvVar.png\", width=1600) -->"
   ]
  },
  {
   "cell_type": "markdown",
   "metadata": {
    "application/vnd.databricks.v1+cell": {
     "cellMetadata": {},
     "inputWidgets": {},
     "nuid": "35d2b6cf-28be-4eea-974a-b39476f72453",
     "showTitle": false,
     "tableResultSettingsMap": {},
     "title": ""
    }
   },
   "source": [
    "### 4 Unmount + Remount Storage onto DBFS with Read-Only permissions \n",
    "Now that the Python Lbs/packages are installed,   \n",
    "We can unmount the (Azure blob) storage with `readNwrite` permissions    \n",
    "And re-mount the storage path with `read-only` permissions    "
   ]
  },
  {
   "cell_type": "code",
   "execution_count": 0,
   "metadata": {
    "application/vnd.databricks.v1+cell": {
     "cellMetadata": {},
     "inputWidgets": {},
     "nuid": "5aff2318-dfd2-4a46-8d4d-3135acc220f1",
     "showTitle": true,
     "tableResultSettingsMap": {},
     "title": "Re-mount external blob storage with Read-only access token"
    }
   },
   "outputs": [],
   "source": [
    "mount_azblob(storageAccountName, blobContainerName, mountPoint, r_sasToken)"
   ]
  },
  {
   "cell_type": "code",
   "execution_count": 0,
   "metadata": {
    "application/vnd.databricks.v1+cell": {
     "cellMetadata": {},
     "inputWidgets": {},
     "nuid": "a4d705f9-d88e-435a-9b89-15751b58c232",
     "showTitle": true,
     "tableResultSettingsMap": {},
     "title": "List mounts"
    }
   },
   "outputs": [],
   "source": [
    "[p for p in dbutils.fs.mounts() if \"dais24\" in p.source]"
   ]
  },
  {
   "cell_type": "code",
   "execution_count": 0,
   "metadata": {
    "application/vnd.databricks.v1+cell": {
     "cellMetadata": {},
     "inputWidgets": {},
     "nuid": "30cb41c6-3dbf-4ada-975e-a4d516ceab2e",
     "showTitle": true,
     "tableResultSettingsMap": {},
     "title": "Check Read-only permissions on mount | List mount path"
    }
   },
   "outputs": [],
   "source": [
    "%fs ls \"dbfs:/mnt/dais24_demo/faster_lib_loads/13.3LTS_ML/libs/python/\""
   ]
  },
  {
   "cell_type": "code",
   "execution_count": 0,
   "metadata": {
    "application/vnd.databricks.v1+cell": {
     "cellMetadata": {},
     "inputWidgets": {},
     "nuid": "fa187cde-5398-4c88-8fa7-0ffa46f75f3e",
     "showTitle": true,
     "tableResultSettingsMap": {},
     "title": "Check Read-only permissions on mount |  mkdirs: should fail if read-only Access Token is used"
    }
   },
   "outputs": [],
   "source": [
    "%fs mkdirs \"dbfs:/mnt/dais24_demo/faster_lib_loads/13.3LTS_ML/libs/test\""
   ]
  },
  {
   "cell_type": "markdown",
   "metadata": {
    "application/vnd.databricks.v1+cell": {
     "cellMetadata": {},
     "inputWidgets": {},
     "nuid": "bbdbd242-1f3c-4737-8d0c-a8ff48e3392b",
     "showTitle": false,
     "tableResultSettingsMap": {},
     "title": ""
    }
   },
   "source": [
    "### 5. TEST Cluster with new configs / RESTART Cluster!"
   ]
  },
  {
   "cell_type": "code",
   "execution_count": 0,
   "metadata": {
    "application/vnd.databricks.v1+cell": {
     "cellMetadata": {},
     "inputWidgets": {},
     "nuid": "b7fbcc0f-06a7-454b-a355-dd2275ed3576",
     "showTitle": true,
     "tableResultSettingsMap": {},
     "title": "check sys.path append | '/dbfs/mnt/hls_demo/13.3LTS_ML/libs/python/'"
    }
   },
   "outputs": [],
   "source": [
    "import sys\n",
    "sys.path"
   ]
  },
  {
   "cell_type": "code",
   "execution_count": 0,
   "metadata": {
    "application/vnd.databricks.v1+cell": {
     "cellMetadata": {},
     "inputWidgets": {},
     "nuid": "703a8f83-0324-4924-ae19-3c8dccf41a0a",
     "showTitle": true,
     "tableResultSettingsMap": {},
     "title": "import / check absolute path of library installed"
    }
   },
   "outputs": [],
   "source": [
    "import os\n",
    "import torch_geometric\n",
    "path = os.path.abspath(torch_geometric.__file__)\n",
    "path"
   ]
  },
  {
   "cell_type": "code",
   "execution_count": 0,
   "metadata": {
    "application/vnd.databricks.v1+cell": {
     "cellMetadata": {},
     "inputWidgets": {},
     "nuid": "2606e6cf-d70a-46fd-bd7a-171a3f4a83c5",
     "showTitle": true,
     "tableResultSettingsMap": {},
     "title": "load torch_geometric"
    }
   },
   "outputs": [],
   "source": [
    "from torch_geometric.data import Data, InMemoryDataset, DataLoader\n",
    "from torch_geometric.nn import NNConv, BatchNorm, EdgePooling, TopKPooling, global_add_pool\n",
    "from torch_geometric.utils import get_laplacian, to_dense_adj"
   ]
  },
  {
   "cell_type": "code",
   "execution_count": 0,
   "metadata": {
    "application/vnd.databricks.v1+cell": {
     "cellMetadata": {},
     "inputWidgets": {},
     "nuid": "e8f6c533-84f0-4c21-95b5-0ad6934b5480",
     "showTitle": true,
     "tableResultSettingsMap": {},
     "title": "load torch"
    }
   },
   "outputs": [],
   "source": [
    "import torch\n",
    "import torch.nn as nn\n",
    "import torch.nn.functional as F\n",
    "from torch.nn import Sequential, Linear, ReLU, Sigmoid, Tanh, Dropout, LeakyReLU\n",
    "from torch.autograd import Variable\n",
    "from torch.distributions import normal, kl"
   ]
  },
  {
   "cell_type": "code",
   "execution_count": 0,
   "metadata": {
    "application/vnd.databricks.v1+cell": {
     "cellMetadata": {},
     "inputWidgets": {},
     "nuid": "a1bde59b-f5c7-4d5f-852b-0f3064fc0032",
     "showTitle": true,
     "tableResultSettingsMap": {},
     "title": "TEST library load"
    }
   },
   "outputs": [],
   "source": [
    "# import torch\n",
    "# from torch_geometric.data import Data\n",
    "\n",
    "edge_index = torch.tensor([[0, 1, 1, 2],\n",
    "                           [1, 0, 2, 1]], dtype=torch.long)\n",
    "x = torch.tensor([[-1], [0], [1]], dtype=torch.float)\n",
    "\n",
    "data = Data(x=x, edge_index=edge_index)\n",
    "Data(edge_index=[2, 4], x=[3, 1])\n"
   ]
  },
  {
   "cell_type": "code",
   "execution_count": 0,
   "metadata": {
    "application/vnd.databricks.v1+cell": {
     "cellMetadata": {},
     "inputWidgets": {},
     "nuid": "66172500-bc06-4e73-b872-3dfd0668a5c9",
     "showTitle": false,
     "tableResultSettingsMap": {},
     "title": ""
    }
   },
   "outputs": [],
   "source": [
    "edge_index = torch.tensor([[0, 1],\n",
    "                           [1, 0],\n",
    "                           [1, 2],\n",
    "                           [2, 1]], dtype=torch.long)\n",
    "x = torch.tensor([[-1], [0], [1]], dtype=torch.float)\n",
    "\n",
    "data = Data(x=x, edge_index=edge_index.t().contiguous())\n",
    "data"
   ]
  },
  {
   "cell_type": "code",
   "execution_count": 0,
   "metadata": {
    "application/vnd.databricks.v1+cell": {
     "cellMetadata": {},
     "inputWidgets": {},
     "nuid": "591d0c0f-cafa-4589-8c89-735c0ab9ecff",
     "showTitle": false,
     "tableResultSettingsMap": {},
     "title": ""
    }
   },
   "outputs": [],
   "source": [
    "data.validate(raise_on_error=True)"
   ]
  },
  {
   "cell_type": "code",
   "execution_count": 0,
   "metadata": {
    "application/vnd.databricks.v1+cell": {
     "cellMetadata": {},
     "inputWidgets": {},
     "nuid": "13dabe59-5caf-4132-b2f8-b7df6c6c5181",
     "showTitle": true,
     "tableResultSettingsMap": {},
     "title": "Test networkx"
    }
   },
   "outputs": [],
   "source": [
    "import networkx as nx\n",
    "\n",
    "edge_index = torch.tensor([[0, 1, 1, 2],\n",
    "                           [1, 0, 2, 1]], dtype=torch.long)\n",
    "x = torch.tensor([[-1], [0], [1]], dtype=torch.float)\n",
    "\n",
    "data = torch_geometric.data.Data(x=x, edge_index=edge_index)\n",
    "g = torch_geometric.utils.to_networkx(data, to_undirected=True)\n",
    "nx.draw(g)"
   ]
  },
  {
   "cell_type": "code",
   "execution_count": 0,
   "metadata": {
    "application/vnd.databricks.v1+cell": {
     "cellMetadata": {},
     "inputWidgets": {},
     "nuid": "9bb13ad2-7297-4b7f-84ca-98bfc3fb7332",
     "showTitle": false,
     "tableResultSettingsMap": {},
     "title": ""
    }
   },
   "outputs": [],
   "source": []
  }
 ],
 "metadata": {
  "application/vnd.databricks.v1+notebook": {
   "computePreferences": null,
   "dashboards": [],
   "environmentMetadata": null,
   "inputWidgetPreferences": null,
   "language": "python",
   "notebookMetadata": {
    "pythonIndentUnit": 4
   },
   "notebookName": "setup_FasterClusterLibLoads_ipythonProfile",
   "widgets": {}
  },
  "language_info": {
   "name": "python"
  }
 },
 "nbformat": 4,
 "nbformat_minor": 0
}
