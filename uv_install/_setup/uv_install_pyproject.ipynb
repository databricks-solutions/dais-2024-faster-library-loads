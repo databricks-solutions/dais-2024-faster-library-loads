{
 "cells": [
  {
   "cell_type": "code",
   "execution_count": 0,
   "metadata": {
    "application/vnd.databricks.v1+cell": {
     "cellMetadata": {
      "byteLimit": 2048000,
      "rowLimit": 10000
     },
     "inputWidgets": {},
     "nuid": "3cb36b6b-4dd8-4fb1-8b30-672f0b1c4535",
     "showTitle": true,
     "tableResultSettingsMap": {},
     "title": "Setup Overview"
    }
   },
   "outputs": [],
   "source": [
    "\n",
    "#  This setup file is intended to provide better performing installs of large, complex python dependencies using uv\n",
    "\n",
    "#  The setup assumes the following project directory conventions have been used:\n",
    "#    - The project pyproject.toml file is in the PROJECT_ROOT_FOLDER\n",
    "#    - Optionally the PROJECT_ROOT_FOLDER can be provided using the PROJECT_PATH widget\n",
    "#    - If project_path isn't provided, it will be assumed and found as a parent directory of calling notebook\n",
    "#    - Optionally the CLUSTER_INSTALL can be set True to install into the cluster site-packages\n",
    "#    - NOTE: in serverless cluster CLUSTER_INSTALL has no effect"
   ]
  },
  {
   "cell_type": "code",
   "execution_count": 0,
   "metadata": {
    "application/vnd.databricks.v1+cell": {
     "cellMetadata": {
      "byteLimit": 2048000,
      "rowLimit": 10000
     },
     "inputWidgets": {},
     "nuid": "955c8ec5-a650-4512-aeca-14cdb92d5000",
     "showTitle": true,
     "tableResultSettingsMap": {},
     "title": "Run Utils"
    }
   },
   "outputs": [],
   "source": [
    "%run ./utils"
   ]
  },
  {
   "cell_type": "code",
   "execution_count": 0,
   "metadata": {
    "application/vnd.databricks.v1+cell": {
     "cellMetadata": {
      "byteLimit": 2048000,
      "rowLimit": 10000
     },
     "inputWidgets": {},
     "nuid": "8db1b7fe-ea2b-4da6-ba3b-393b3e504eac",
     "showTitle": true,
     "tableResultSettingsMap": {},
     "title": "Set Widget Variables"
    }
   },
   "outputs": [],
   "source": [
    "# dbutils.widgets.removeAll()\n",
    "# dbutils.widgets.text(\"PROJECT_PATH\", \"\")\n",
    "# dbutils.widgets.dropdown(\"CLUSTER_INSTALL\", \"False\", [\"True\", \"False\"])\n",
    "\n",
    "widget_dict = dbutils.widgets.getAll()\n",
    "PROJECT_PATH = widget_dict.get('PROJECT_PATH', '')\n",
    "CLUSTER_INSTALL = True if widget_dict.get('CLUSTER_INSTALL', '')==\"True\" else False"
   ]
  },
  {
   "cell_type": "code",
   "execution_count": 0,
   "metadata": {
    "application/vnd.databricks.v1+cell": {
     "cellMetadata": {
      "byteLimit": 2048000,
      "rowLimit": 10000
     },
     "inputWidgets": {},
     "nuid": "a5bd1778-6a43-4eba-ade9-0d189ea16956",
     "showTitle": true,
     "tableResultSettingsMap": {},
     "title": "Install pyproject w/ dependencies using uv"
    }
   },
   "outputs": [],
   "source": [
    "import subprocess\n",
    "\n",
    "install_uv()\n",
    "\n",
    "project_root_path = find_project(PROJECT_PATH)\n",
    "python_bin_path = get_python_bin_path(CLUSTER_INSTALL)\n",
    "\n",
    "pyproject_install_cmd = [\"uv\", \"pip\", \"install\", \n",
    "                         f\"--python={python_bin_path}\", \n",
    "                         \"--link-mode=copy\",\n",
    "                         project_root_path]\n",
    "\n",
    "print(pyproject_install_cmd)\n",
    "\n",
    "subprocess.run(pyproject_install_cmd,\n",
    "              capture_output=False,\n",
    "              stdout=subprocess.DEVNULL,\n",
    "              stderr=subprocess.DEVNULL)\n",
    "\n",
    "dbutils.library.restartPython()"
   ]
  }
 ],
 "metadata": {
  "application/vnd.databricks.v1+notebook": {
   "computePreferences": null,
   "dashboards": [],
   "environmentMetadata": {
    "base_environment": "",
    "environment_version": "2"
   },
   "inputWidgetPreferences": null,
   "language": "python",
   "notebookMetadata": {
    "mostRecentlyExecutedCommandWithImplicitDF": {
     "commandId": 5602244038516745,
     "dataframes": [
      "_sqldf"
     ]
    },
    "pythonIndentUnit": 4
   },
   "notebookName": "uv_install_pyproject",
   "widgets": {
    "CLUSTER_INSTALL": {
     "currentValue": "False",
     "nuid": "277831ef-2ea8-4fc5-a405-3c3dc816ab0a",
     "typedWidgetInfo": {
      "autoCreated": false,
      "defaultValue": "False",
      "label": null,
      "name": "CLUSTER_INSTALL",
      "options": {
       "widgetDisplayType": "Dropdown",
       "choices": [
        "True",
        "False"
       ],
       "fixedDomain": true,
       "multiselect": false
      },
      "parameterDataType": "String"
     },
     "widgetInfo": {
      "widgetType": "dropdown",
      "defaultValue": "False",
      "label": null,
      "name": "CLUSTER_INSTALL",
      "options": {
       "widgetType": "dropdown",
       "autoCreated": false,
       "choices": [
        "True",
        "False"
       ]
      }
     }
    },
    "PROJECT_PATH": {
     "currentValue": "",
     "nuid": "468af631-a4ad-4708-9811-c89780fcddc0",
     "typedWidgetInfo": {
      "autoCreated": false,
      "defaultValue": "",
      "label": null,
      "name": "PROJECT_PATH",
      "options": {
       "widgetDisplayType": "Text",
       "validationRegex": null
      },
      "parameterDataType": "String"
     },
     "widgetInfo": {
      "widgetType": "text",
      "defaultValue": "",
      "label": null,
      "name": "PROJECT_PATH",
      "options": {
       "widgetType": "text",
       "autoCreated": false,
       "validationRegex": null
      }
     }
    }
   }
  },
  "language_info": {
   "name": "python"
  }
 },
 "nbformat": 4,
 "nbformat_minor": 0
}
