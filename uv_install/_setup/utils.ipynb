{
 "cells": [
  {
   "cell_type": "code",
   "execution_count": 0,
   "metadata": {
    "application/vnd.databricks.v1+cell": {
     "cellMetadata": {
      "byteLimit": 2048000,
      "rowLimit": 10000
     },
     "inputWidgets": {},
     "nuid": "27d293ac-9c75-4bf8-aa0b-5eddcf9c190c",
     "showTitle": true,
     "tableResultSettingsMap": {},
     "title": "Install uv"
    }
   },
   "outputs": [],
   "source": [
    "import contextlib\n",
    "import io\n",
    "\n",
    "@contextlib.contextmanager\n",
    "def suppress_stdout_stderr():\n",
    "    \"\"\"Context manager to suppress stdout and stderr.\"\"\"\n",
    "    with contextlib.redirect_stdout(io.StringIO()), contextlib.redirect_stderr(io.StringIO()):\n",
    "        yield\n",
    "\n",
    "def install_uv():\n",
    "    with suppress_stdout_stderr():\n",
    "        get_ipython().run_line_magic(\"pip\", \"install uv\")"
   ]
  },
  {
   "cell_type": "code",
   "execution_count": 0,
   "metadata": {
    "application/vnd.databricks.v1+cell": {
     "cellMetadata": {
      "byteLimit": 2048000,
      "rowLimit": 10000
     },
     "inputWidgets": {},
     "nuid": "24cba18c-4a2e-4aa3-95f4-01f8fb0a0661",
     "showTitle": true,
     "tableResultSettingsMap": {},
     "title": "Project Path Helper Functions"
    }
   },
   "outputs": [],
   "source": [
    "import os\n",
    "\n",
    "def find_pyproject_toml(start_path='') -> str:\n",
    "    \"\"\"Search for pyproject.toml starting from start_path and moving up until found or root is reached.\"\"\"\n",
    "\n",
    "    if start_path:\n",
    "        current_path = start_path\n",
    "    else:\n",
    "        current_path = \"/Workspace\" + \\\n",
    "            dbutils.entry_point.getDbutils().notebook().getContext().notebookPath().get()\n",
    " \n",
    "    while True:\n",
    "        possible_file = os.path.join(current_path, \"pyproject.toml\")\n",
    "        if os.path.isfile(possible_file):\n",
    "            return possible_file  # Found the file\n",
    "\n",
    "        # Move up one directory\n",
    "        parent_path = os.path.dirname(current_path)\n",
    "\n",
    "        # Stop if we have reached the root directory\n",
    "        if parent_path == current_path:\n",
    "            raise FileNotFoundError(\"pyproject.toml not found in any parent directories.\")\n",
    "\n",
    "        current_path = parent_path\n",
    "    \n",
    "    return current_path\n",
    "\n",
    "\n",
    "def find_project(start_path='') -> str:\n",
    "    \"\"\"Search for project_path from start_path and moving up until found or root is reached.\"\"\"\n",
    "    return os.path.dirname(find_pyproject_toml(start_path))"
   ]
  },
  {
   "cell_type": "code",
   "execution_count": 0,
   "metadata": {
    "application/vnd.databricks.v1+cell": {
     "cellMetadata": {},
     "inputWidgets": {},
     "nuid": "fb261443-c1cf-4edb-8c31-7b7f094d490d",
     "showTitle": true,
     "tableResultSettingsMap": {},
     "title": "Dependency Helper Functions"
    }
   },
   "outputs": [],
   "source": [
    "import re\n",
    "import pandas as pd\n",
    "\n",
    "def extract_toml_dependencies(pyproject_path: str) -> list[str]:\n",
    "    import tomllib\n",
    "    with open(pyproject_path, \"rb\") as f:\n",
    "        data = tomllib.load(f)\n",
    "\n",
    "    # Extract dependencies from standard format\n",
    "    dependencies = data.get(\"project\", {}).get(\"dependencies\", [])\n",
    "\n",
    "    return dependencies\n",
    "\n",
    "def parse_toml_dependency(dep: str) -> tuple[str, str, str]:\n",
    "    match = re.match(r\"([a-zA-Z0-9_-]+)([<>=!~]+)(.+)\", dep)\n",
    "    if match:\n",
    "        return match.groups()\n",
    "    else:\n",
    "        return (dep, \"\", \"\")\n",
    "\n",
    "def parsed_toml_dependencies(pyproject_path: str) -> list[(str, str, str)]:\n",
    "    \"\"\"Parse a dependency string into a tuple of (package, operator, version).\"\"\"\n",
    "    return [parse_toml_dependency(d) for d in extract_toml_dependencies(pyproject_path)]\n",
    "\n",
    "\n",
    "def toml_dependencies_as_pdf(pyproject_path: str) -> pd.DataFrame:\n",
    "    dep = parsed_toml_dependencies(pyproject_path)\n",
    "    dat = pd.DataFrame(dep, columns=['Package', 'Dep_Operator', 'Dep_Version'])\n",
    "    return dat"
   ]
  },
  {
   "cell_type": "code",
   "execution_count": 0,
   "metadata": {
    "application/vnd.databricks.v1+cell": {
     "cellMetadata": {},
     "inputWidgets": {},
     "nuid": "9f6decd8-59ba-4021-952f-11b5a36c3480",
     "showTitle": true,
     "tableResultSettingsMap": {},
     "title": "Installed Packages Helper Functions"
    }
   },
   "outputs": [],
   "source": [
    "from importlib.metadata import distributions\n",
    "import pandas as pd\n",
    "\n",
    "def get_installed_packages() -> dict:\n",
    "    \"\"\"Get a dictionary of installed packages and their versions.\"\"\"\n",
    "    installed_packages = {dist.metadata[\"Name\"].lower(): dist.version for dist in distributions()}\n",
    "    return installed_packages\n",
    "\n",
    "def installed_packages_as_pdf():\n",
    "    tpl = [(k,v) for k,v in get_installed_packages().items()]\n",
    "    dat = pd.DataFrame(tpl, columns=['Package', 'Installed_Version'])\n",
    "    return dat"
   ]
  },
  {
   "cell_type": "code",
   "execution_count": 0,
   "metadata": {
    "application/vnd.databricks.v1+cell": {
     "cellMetadata": {
      "byteLimit": 2048000,
      "rowLimit": 10000
     },
     "inputWidgets": {},
     "nuid": "091717ed-5db8-4067-aed2-e07bfe829dac",
     "showTitle": true,
     "tableResultSettingsMap": {},
     "title": "Serverless Helper Function"
    }
   },
   "outputs": [],
   "source": [
    "def is_serverless() -> bool:\n",
    "    try:\n",
    "        _ = dbutils.spark.conf.get('spark.databricks.clusterUsageTags.clusterId')\n",
    "        return False\n",
    "    except Exception as e:\n",
    "        return True"
   ]
  },
  {
   "cell_type": "code",
   "execution_count": 0,
   "metadata": {
    "application/vnd.databricks.v1+cell": {
     "cellMetadata": {
      "byteLimit": 2048000,
      "rowLimit": 10000
     },
     "inputWidgets": {},
     "nuid": "9c842c4f-309f-4cc6-8be0-2a311addd2ed",
     "showTitle": true,
     "tableResultSettingsMap": {},
     "title": "Python Bin Path Helper Functions"
    }
   },
   "outputs": [],
   "source": [
    "import sys\n",
    "\n",
    "def get_notebook_python_bin_path() -> str:\n",
    "    env_path = next((p for p in sys.path if 'pythonEnv-' in p), None).split('/')[:-3]\n",
    "    return ('/').join([*env_path,'bin','python'])\n",
    "\n",
    "def get_cluster_python_bin_path() -> str:\n",
    "    env_path = next((p for p in sys.path if 'cluster_libraries' in p), None).split('/')[:-3]\n",
    "    return ('/').join([*env_path,'bin','python'])\n",
    "\n",
    "def get_python_bin_path(cluster_install = False) -> str:\n",
    "    if cluster_install and not is_serverless():\n",
    "        return get_cluster_python_bin_path()\n",
    "    else:\n",
    "        return get_notebook_python_bin_path()"
   ]
  }
 ],
 "metadata": {
  "application/vnd.databricks.v1+notebook": {
   "computePreferences": null,
   "dashboards": [],
   "environmentMetadata": {
    "base_environment": "",
    "environment_version": "2"
   },
   "inputWidgetPreferences": null,
   "language": "python",
   "notebookMetadata": {
    "pythonIndentUnit": 4
   },
   "notebookName": "utils",
   "widgets": {}
  },
  "language_info": {
   "name": "python"
  }
 },
 "nbformat": 4,
 "nbformat_minor": 0
}
