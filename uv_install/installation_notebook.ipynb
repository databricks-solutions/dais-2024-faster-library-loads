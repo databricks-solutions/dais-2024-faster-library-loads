{
 "cells": [
  {
   "cell_type": "markdown",
   "metadata": {
    "application/vnd.databricks.v1+cell": {
     "cellMetadata": {},
     "inputWidgets": {},
     "nuid": "59d50f8c-f6bc-4aa7-8141-510e01871ca9",
     "showTitle": false,
     "tableResultSettingsMap": {},
     "title": ""
    }
   },
   "source": [
    "#### This is a sample notebook for `uv` based installation.\n",
    "\n",
    "1) [uv](https://docs.astral.sh/uv/getting-started/installation/) intallation requires `pyproject.toml` file.\n",
    "2) In Databricks, one can create `pyproject.toml` or use uv init method to create the pyproject.tomol. ( ignore the .git error if using init method)\n",
    "3) Once the libraries are defined in `pyproject.toml`, simply call the below command for library installation.\n",
    "4) The example notebook here, uses helper functions to detect `pyproject.toml` and ensure that the libraries are installed either at notebook level or at cluster level. (for serverless the libraries are installed always at the notebook level)\n",
    "5) Choose the `CLUSTER_INSTALL True` if the setup should install the libraries at the cluster level."
   ]
  },
  {
   "cell_type": "code",
   "execution_count": 0,
   "metadata": {
    "application/vnd.databricks.v1+cell": {
     "cellMetadata": {
      "byteLimit": 2048000,
      "rowLimit": 10000
     },
     "inputWidgets": {},
     "nuid": "a4a6df06-5052-4870-bb30-f142d683faa9",
     "showTitle": true,
     "tableResultSettingsMap": {},
     "title": "Sample Library"
    }
   },
   "outputs": [],
   "source": [
    "#test to verify library installation\n",
    "import adal"
   ]
  },
  {
   "cell_type": "code",
   "execution_count": 0,
   "metadata": {
    "application/vnd.databricks.v1+cell": {
     "cellMetadata": {
      "byteLimit": 2048000,
      "rowLimit": 10000
     },
     "inputWidgets": {},
     "nuid": "1f2911c0-2779-42f2-a62d-18f7310eac07",
     "showTitle": true,
     "tableResultSettingsMap": {},
     "title": "Running uv installation based on pyproject.toml"
    }
   },
   "outputs": [],
   "source": [
    "%run ./_setup/uv_install_pyproject $CLUSTER_INSTALL=True"
   ]
  },
  {
   "cell_type": "code",
   "execution_count": 0,
   "metadata": {
    "application/vnd.databricks.v1+cell": {
     "cellMetadata": {
      "byteLimit": 2048000,
      "rowLimit": 10000
     },
     "inputWidgets": {},
     "nuid": "6901db2c-785a-4327-a529-de6ce29d2bad",
     "showTitle": false,
     "tableResultSettingsMap": {},
     "title": ""
    }
   },
   "outputs": [],
   "source": [
    "import adal #successfully verified."
   ]
  }
 ],
 "metadata": {
  "application/vnd.databricks.v1+notebook": {
   "computePreferences": null,
   "dashboards": [],
   "environmentMetadata": {
    "base_environment": "",
    "environment_version": "2"
   },
   "inputWidgetPreferences": null,
   "language": "python",
   "notebookMetadata": {
    "pythonIndentUnit": 2
   },
   "notebookName": "installation_notebook",
   "widgets": {}
  },
  "language_info": {
   "name": "python"
  }
 },
 "nbformat": 4,
 "nbformat_minor": 0
}
