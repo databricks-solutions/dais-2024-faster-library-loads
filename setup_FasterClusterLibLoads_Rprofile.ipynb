{
 "cells": [
  {
   "cell_type": "markdown",
   "metadata": {
    "application/vnd.databricks.v1+cell": {
     "cellMetadata": {},
     "inputWidgets": {},
     "nuid": "350e0a00-7e1c-40ea-b09c-94097896aff1",
     "showTitle": false,
     "tableResultSettingsMap": {},
     "title": ""
    }
   },
   "source": [
    "## Overview of how to set up mounted path and pre-install libraries/packages:\n",
    "\n",
    "1. Establish a standard convention within your Organization and your shared workspace for `{project}/{dbr_version}/{Library}` &/or `{.Rprofile}` paths \n",
    "\n",
    "2. Install libraries and packages in the path identified as `R_LIB_PATH_MOUNTED`   \n",
    "\n",
    "3. Set up Cluster Configs:      \n",
    "\n",
    "    - 3A [Recommended]: Set the Cluster Init Scripts with path to Volumes Init Script      \n",
    "    - 3B [Alternative]: Set the Cluster Environment variable `R_PROFILE_USER`     \n",
    "    \n",
    "     \n",
    "##### Post Installation of Library/Packages + Cluster Init Script / Environment Variable set up\n",
    "With our Libs pre-installed + Cluster Init Script (via Volumes) OR Environment Variables set up, we will now make sure that the mounted path is `Read-Only`:          \n",
    "\n",
    "4. Unmount + Remount Storage onto DBFS with `Read-Only` permissions        \n",
    "\n",
    "5. Post Compute re-start/updates .... [TEST] R_library loads! "
   ]
  },
  {
   "cell_type": "code",
   "execution_count": 0,
   "metadata": {
    "application/vnd.databricks.v1+cell": {
     "cellMetadata": {},
     "inputWidgets": {},
     "nuid": "e03e9a64-1b99-41fa-b0b0-f737562903b0",
     "showTitle": false,
     "tableResultSettingsMap": {},
     "title": ""
    }
   },
   "outputs": [],
   "source": [
    "## START cluster for setup: mmt_dbr14.3LTSML_cpu"
   ]
  },
  {
   "cell_type": "markdown",
   "metadata": {
    "application/vnd.databricks.v1+cell": {
     "cellMetadata": {},
     "inputWidgets": {},
     "nuid": "60cc9c88-6510-438a-a9b0-81043896c1ca",
     "showTitle": false,
     "tableResultSettingsMap": {},
     "title": ""
    }
   },
   "source": [
    "### 1. Establish a standard convention within your Organization and your shared workspace for `{project}/{dbr_version}/{Library}` &/or `{.Rprofile}` paths\n"
   ]
  },
  {
   "cell_type": "markdown",
   "metadata": {
    "application/vnd.databricks.v1+cell": {
     "cellMetadata": {},
     "inputWidgets": {},
     "nuid": "51548d73-d1d1-4a1b-9766-748852d8e0a5",
     "showTitle": false,
     "tableResultSettingsMap": {},
     "title": ""
    }
   },
   "source": [
    "#### 1.1 Use Python and [dbutils](https://docs.databricks.com/en/dev-tools/databricks-utils.html) to  \n",
    "- set up `Project`, `Library` paths\n",
    "- extract configured `Scopes` and `Secrets` [[AWS](https://docs.databricks.com/en/security/secrets/secret-scopes.html) | [Azure](https://learn.microsoft.com/en-us/azure/databricks/security/secrets/secret-scopes)] to store e.g. `External StorageBlob e.g. ADLS/S3` Shared Access Tokens "
   ]
  },
  {
   "cell_type": "code",
   "execution_count": 0,
   "metadata": {
    "application/vnd.databricks.v1+cell": {
     "cellMetadata": {},
     "inputWidgets": {},
     "nuid": "bd53e462-0e1d-4f77-8457-fd6f7e7d544a",
     "showTitle": true,
     "tableResultSettingsMap": {},
     "title": "Folder paths to organize project | dbr_version | libraries"
    }
   },
   "outputs": [],
   "source": [
    "%python\n",
    "\n",
    "PROJECT_GROUP = \"dais24_demo\"\n",
    "PROJECT_DIR = \"faster_lib_loads\"\n",
    "DBR_VERSION = \"14.3LTS_ML\"\n",
    "\n",
    "PATH_MOUNTED = f\"/mnt/{PROJECT_GROUP}/\"  ## points to blobContainerName = \"dais24\"\n",
    "R_LIB_PATH_MOUNTED = f\"/mnt/{PROJECT_GROUP}/{PROJECT_DIR}/{DBR_VERSION}/libs/r/\"\n",
    "\n",
    "R_PROFILE_PATH = f\"/mnt/{PROJECT_GROUP}/{PROJECT_DIR}/{DBR_VERSION}/clusterEnv/r_profile/\"  # .Rprofile\n",
    "\n",
    "print(f\"PATH_MOUNTED: {PATH_MOUNTED}\")\n",
    "print(f\"R_LIB_PATH_MOUNTED: {R_LIB_PATH_MOUNTED}\")\n",
    "print(f\"R_PROFILE_PATH: {R_PROFILE_PATH}\")"
   ]
  },
  {
   "cell_type": "markdown",
   "metadata": {
    "application/vnd.databricks.v1+cell": {
     "cellMetadata": {},
     "inputWidgets": {},
     "nuid": "0c19d394-b9bc-4553-a6ee-3dfecb2e6f9a",
     "showTitle": false,
     "tableResultSettingsMap": {},
     "title": ""
    }
   },
   "source": [
    "#### 1.2 Blob Storage to associate PATH_MOUNTED  as `dbfs/mnt path to install specific r packages`"
   ]
  },
  {
   "cell_type": "markdown",
   "metadata": {
    "application/vnd.databricks.v1+cell": {
     "cellMetadata": {},
     "inputWidgets": {},
     "nuid": "003f67fc-3bf1-4fa9-b713-6eb80a59104f",
     "showTitle": true,
     "tableResultSettingsMap": {},
     "title": "Blob Storage to associate PATH_MOUNTED "
    }
   },
   "source": [
    "![Blob Storage as PATH_MOUNTED](./markdown_images/access_storage_container.png)\n",
    "\n",
    "<!-- %python\n",
    "from IPython.display import Image\n",
    "\n",
    "Image(\n",
    "    filename=\"/Workspace/Users/{username@email.com}/Faster_Lib_Loads/markdown_images/access_storage_container.png\",\n",
    "    width=1600,\n",
    ") -->"
   ]
  },
  {
   "cell_type": "markdown",
   "metadata": {
    "application/vnd.databricks.v1+cell": {
     "cellMetadata": {},
     "inputWidgets": {},
     "nuid": "1329d6b6-af86-41a4-9a49-8bf272eaf8cc",
     "showTitle": true,
     "tableResultSettingsMap": {},
     "title": "Create Shared Access Tokens"
    }
   },
   "source": [
    "![Blob Storage as SAStoken](./markdown_images/generateSAStoken.png)\n",
    "\n",
    "\n",
    "<!-- %python\n",
    "from IPython.display import Image\n",
    "\n",
    "Image(\n",
    "    filename=\"/Workspace/Users/{username@email.com}/Faster_Lib_Loads/markdown_images/generateSAStoken.png\",\n",
    "    width=1600,\n",
    ") -->"
   ]
  },
  {
   "cell_type": "code",
   "execution_count": 0,
   "metadata": {
    "application/vnd.databricks.v1+cell": {
     "cellMetadata": {},
     "inputWidgets": {},
     "nuid": "120d9d9a-e03a-404c-986e-1099227e4fd9",
     "showTitle": true,
     "tableResultSettingsMap": {},
     "title": "readNwrite | read-only secrets are pre-configured to user/group scope"
    }
   },
   "outputs": [],
   "source": [
    "%python\n",
    "secret_scope_name = \"dais24_fasterlibloads\"\n",
    "dbutils.secrets.list(f\"{secret_scope_name}\")"
   ]
  },
  {
   "cell_type": "code",
   "execution_count": 0,
   "metadata": {
    "application/vnd.databricks.v1+cell": {
     "cellMetadata": {},
     "inputWidgets": {},
     "nuid": "6e4df72f-0f6b-4267-b6e8-b983df98a76e",
     "showTitle": true,
     "tableResultSettingsMap": {},
     "title": "Function to mount with Shared Access Tokens stored as Scope Secrets "
    }
   },
   "outputs": [],
   "source": [
    "%python\n",
    "\n",
    "storageAccountName = \"hlsfieldexternal\"\n",
    "blobContainerName = \"dais24\"\n",
    "secret_scope_name = \"dais24_fasterlibloads\"\n",
    "r_sasToken = dbutils.secrets.get(f\"{secret_scope_name}\", \"r_token\")\n",
    "rwr_sasToken = dbutils.secrets.get(f\"{secret_scope_name}\", \"rwr_token\")\n",
    "\n",
    "mountPoint = PATH_MOUNTED\n",
    "\n",
    "\n",
    "def mount_azblob(storageAccountName, blobContainerName, mountPoint, sasToken):\n",
    "\n",
    "    # first unmount if already mounted\n",
    "    if any(mount.mountPoint == mountPoint for mount in dbutils.fs.mounts()):\n",
    "        dbutils.fs.unmount(mountPoint)\n",
    "\n",
    "    try:\n",
    "        # mount to specified mountPoint\n",
    "        dbutils.fs.mount(\n",
    "            source=f\"wasbs://{blobContainerName}@{storageAccountName}.blob.core.windows.net\",\n",
    "            mount_point=mountPoint,\n",
    "            extra_configs={\n",
    "                f\"fs.azure.sas.{blobContainerName}.{storageAccountName}.blob.core.windows.net\": sasToken\n",
    "            },\n",
    "        )\n",
    "        print(\"mount succeeded!\")\n",
    "    except Exception as e:\n",
    "        print(\"mount exception\", e)\n",
    "\n",
    "        dbutils.fs.refreshMounts()"
   ]
  },
  {
   "cell_type": "code",
   "execution_count": 0,
   "metadata": {
    "application/vnd.databricks.v1+cell": {
     "cellMetadata": {},
     "inputWidgets": {},
     "nuid": "659425d6-5ba6-48b9-852d-6b8ea5e6436c",
     "showTitle": true,
     "tableResultSettingsMap": {},
     "title": "mount with rwr_sasToken"
    }
   },
   "outputs": [],
   "source": [
    "%python\n",
    "mount_azblob(storageAccountName, blobContainerName, mountPoint, rwr_sasToken)"
   ]
  },
  {
   "cell_type": "code",
   "execution_count": 0,
   "metadata": {
    "application/vnd.databricks.v1+cell": {
     "cellMetadata": {},
     "inputWidgets": {},
     "nuid": "b043368f-5412-4bd0-8542-679c12b09c0f",
     "showTitle": false,
     "tableResultSettingsMap": {},
     "title": ""
    }
   },
   "outputs": [],
   "source": [
    "%python\n",
    "dbutils.fs.mounts()"
   ]
  },
  {
   "cell_type": "code",
   "execution_count": 0,
   "metadata": {
    "application/vnd.databricks.v1+cell": {
     "cellMetadata": {},
     "inputWidgets": {},
     "nuid": "dfa31c0f-c2e0-4600-ba5d-7344e33e8235",
     "showTitle": true,
     "tableResultSettingsMap": {},
     "title": "Check mounted path"
    }
   },
   "outputs": [],
   "source": [
    "%python\n",
    "[p for p in dbutils.fs.mounts() if f\"{blobContainerName}\" in p.source]"
   ]
  },
  {
   "cell_type": "code",
   "execution_count": 0,
   "metadata": {
    "application/vnd.databricks.v1+cell": {
     "cellMetadata": {},
     "inputWidgets": {},
     "nuid": "fb68e814-792e-41e9-9f67-c0d66dde8807",
     "showTitle": true,
     "tableResultSettingsMap": {},
     "title": "List mounted path"
    }
   },
   "outputs": [],
   "source": [
    "%python\n",
    "mountpath = PATH_MOUNTED\n",
    "display(dbutils.fs.ls(mountpath))"
   ]
  },
  {
   "cell_type": "code",
   "execution_count": 0,
   "metadata": {
    "application/vnd.databricks.v1+cell": {
     "cellMetadata": {},
     "inputWidgets": {},
     "nuid": "17e42858-5f3d-4b10-bbec-2a86ee70bb72",
     "showTitle": false,
     "tableResultSettingsMap": {},
     "title": ""
    }
   },
   "outputs": [],
   "source": [
    "%python\n",
    "R_LIB_PATH_MOUNTED"
   ]
  },
  {
   "cell_type": "markdown",
   "metadata": {
    "application/vnd.databricks.v1+cell": {
     "cellMetadata": {},
     "inputWidgets": {},
     "nuid": "b7a1b95a-1801-435b-9987-09310fd88cb3",
     "showTitle": false,
     "tableResultSettingsMap": {},
     "title": ""
    }
   },
   "source": [
    "### 2. Install libraries and packages in the path identified above as R_LIB_PATH_MOUNTED "
   ]
  },
  {
   "cell_type": "markdown",
   "metadata": {
    "application/vnd.databricks.v1+cell": {
     "cellMetadata": {},
     "inputWidgets": {},
     "nuid": "12fcc7fd-58e7-4903-9039-a857e05ce35f",
     "showTitle": false,
     "tableResultSettingsMap": {},
     "title": ""
    }
   },
   "source": [
    "#### 2.1 Use R language for R packages installation "
   ]
  },
  {
   "cell_type": "code",
   "execution_count": 0,
   "metadata": {
    "application/vnd.databricks.v1+cell": {
     "cellMetadata": {},
     "inputWidgets": {},
     "nuid": "e7fd0710-8882-4863-918f-a09ba0adb9d7",
     "showTitle": true,
     "tableResultSettingsMap": {},
     "title": "Update package manager to posit.co/cran + linux binaries"
    }
   },
   "outputs": [],
   "source": [
    "# setup HTTP User agent so that posit knows what version of R we are using\n",
    "options(HTTPUserAgent = sprintf(\"R/%s R (%s)\", getRversion(), paste(getRversion(), R.version[\"platform\"], R.version[\"arch\"], R.version[\"os\"])))\n",
    "\n",
    "# https://packagemanager.posit.co/client/#/\n",
    "# this will vary based on Databricks runtime version! \n",
    "options(repos = c(POSIT = \"https://packagemanager.posit.co/cran/__linux__/jammy/latest\", CRAN=\"http://cran.us.r-project.org\"))\n",
    "\n",
    "# Ensure that you update the URL to match the linux version of the runtime e.g. jammy or bionic\n",
    "# options(repos = c(POSIT = \"https://packagemanager.posit.co/cran/__linux__/<linux-release-name>/latest\"))\n"
   ]
  },
  {
   "cell_type": "code",
   "execution_count": 0,
   "metadata": {
    "application/vnd.databricks.v1+cell": {
     "cellMetadata": {},
     "inputWidgets": {},
     "nuid": "f839a931-20a3-49ac-8636-25c2b6fb160b",
     "showTitle": true,
     "tableResultSettingsMap": {},
     "title": "if not already done so: mkdirs DBFS path to where your r-packages should live"
    }
   },
   "outputs": [],
   "source": [
    "%fs mkdirs \"dbfs:/mnt/dais24_demo/faster_lib_loads/14.3LTS_ML/libs/r/\""
   ]
  },
  {
   "cell_type": "code",
   "execution_count": 0,
   "metadata": {
    "application/vnd.databricks.v1+cell": {
     "cellMetadata": {},
     "inputWidgets": {},
     "nuid": "1c52012a-74db-4838-83f9-f5d7c4849ec4",
     "showTitle": true,
     "tableResultSettingsMap": {},
     "title": "check/list path to libs"
    }
   },
   "outputs": [],
   "source": [
    "%fs ls \"dbfs:/mnt/dais24_demo/faster_lib_loads/14.3LTS_ML/libs/r/\""
   ]
  },
  {
   "cell_type": "code",
   "execution_count": 0,
   "metadata": {
    "application/vnd.databricks.v1+cell": {
     "cellMetadata": {},
     "inputWidgets": {},
     "nuid": "f415d0ab-027e-461b-a433-ac688acc18cf",
     "showTitle": true,
     "tableResultSettingsMap": {},
     "title": "Install via posit/cran  to DBFS mounted path \"once\""
    }
   },
   "outputs": [],
   "source": [
    "packages <- c(\"data.table\",\"car\",\"lmtest\",\"mclust\",\"fitdistrplus\",\"mixtools\",\"extraDistr\",\"actuar\",\"forecast\",\"SparkR\",\"stringi\",\"assertthat\",\"naniar\",\"tidyverse\",\"XML\",\"xml2\",\"rcompanion\",\"librarian\", \"ggiraph\",\"ggiraphExtra\",\"gtable\", \"ggplot2\")\n",
    "\n",
    "R_LIB_PATH_MOUNTED <- '/dbfs/mnt/dais24_demo/faster_lib_loads/14.3LTS_ML/libs/r/'\n",
    "\n",
    "install.packages(packages, \n",
    "                 dependencies=TRUE,\n",
    "                 INSTALL_opts = \"--no-lock\", \n",
    "                 repos=c(POSIT = \"https://packagemanager.posit.co/cran/__linux__/jammy/latest\"),                 \n",
    "                 lib = R_LIB_PATH_MOUNTED,                  \n",
    "                 upgrade=TRUE, update.packages = TRUE,\n",
    "                 quiet = FALSE, \n",
    "                 verbose = TRUE\n",
    "                ) \n",
    "\n",
    "# dependencies are downloaded and installed to lib path \n",
    "\n",
    "# Command took 15.21 minutes -- by may.merkletan@databricks.com at 6/4/2024, 1:49:01 PM on mmt_14.3LTSML_cpu_(r)"
   ]
  },
  {
   "cell_type": "code",
   "execution_count": 0,
   "metadata": {
    "application/vnd.databricks.v1+cell": {
     "cellMetadata": {},
     "inputWidgets": {},
     "nuid": "0e82427d-b5b9-4e4d-a3ad-edad360a57d8",
     "showTitle": true,
     "tableResultSettingsMap": {},
     "title": "Quick check on files installed to path"
    }
   },
   "outputs": [],
   "source": [
    "R_LIB_PATH_MOUNTED <- '/dbfs/mnt/dais24_demo/faster_lib_loads/14.3LTS_ML/libs/r/'"
   ]
  },
  {
   "cell_type": "code",
   "execution_count": 0,
   "metadata": {
    "application/vnd.databricks.v1+cell": {
     "cellMetadata": {},
     "inputWidgets": {},
     "nuid": "4bcfaa0d-075c-45a7-9dcc-82445b1cfa12",
     "showTitle": false,
     "tableResultSettingsMap": {},
     "title": ""
    }
   },
   "outputs": [],
   "source": [
    "%fs ls /mnt/dais24_demo/faster_lib_loads/14.3LTS_ML/libs/r/"
   ]
  },
  {
   "cell_type": "markdown",
   "metadata": {
    "application/vnd.databricks.v1+cell": {
     "cellMetadata": {},
     "inputWidgets": {},
     "nuid": "ec5fbfd3-1b49-45d3-8238-2f1441d1048e",
     "showTitle": false,
     "tableResultSettingsMap": {},
     "title": ""
    }
   },
   "source": [
    "#### 2.2 Helpful quick check on `libsPath()` appending "
   ]
  },
  {
   "cell_type": "code",
   "execution_count": 0,
   "metadata": {
    "application/vnd.databricks.v1+cell": {
     "cellMetadata": {},
     "inputWidgets": {},
     "nuid": "142867ff-e23b-4039-a1af-98bd38cc3452",
     "showTitle": true,
     "tableResultSettingsMap": {},
     "title": "Append  R_LIB_PATH_MOUNTED to .libPaths()"
    }
   },
   "outputs": [],
   "source": [
    "R_LIB_PATH_MOUNTED <- '/dbfs/mnt/dais24_demo/faster_lib_loads/14.3LTS_ML/libs/r/'\n",
    "# Add the library to the search path at the start\n",
    ".libPaths(c(.libPaths(), R_LIB_PATH_MOUNTED))"
   ]
  },
  {
   "cell_type": "code",
   "execution_count": 0,
   "metadata": {
    "application/vnd.databricks.v1+cell": {
     "cellMetadata": {},
     "inputWidgets": {},
     "nuid": "739598ed-4d7a-44f8-88cf-62acd6e06afe",
     "showTitle": false,
     "tableResultSettingsMap": {},
     "title": ""
    }
   },
   "outputs": [],
   "source": [
    ".libPaths()"
   ]
  },
  {
   "cell_type": "code",
   "execution_count": 0,
   "metadata": {
    "application/vnd.databricks.v1+cell": {
     "cellMetadata": {},
     "inputWidgets": {},
     "nuid": "0096028e-7d6e-492c-8e21-d797b31e7a5a",
     "showTitle": true,
     "tableResultSettingsMap": {},
     "title": "List installed Packages | Versions | LibPaths"
    }
   },
   "outputs": [],
   "source": [
    "packINFO <- as.data.frame(installed.packages())[,c(\"Package\", \"Version\", \"LibPath\")]\n",
    "rownames(packINFO) <- NULL\n",
    "\n",
    "print(packINFO) \n",
    "print(dim(packINFO))"
   ]
  },
  {
   "cell_type": "code",
   "execution_count": 0,
   "metadata": {
    "application/vnd.databricks.v1+cell": {
     "cellMetadata": {},
     "inputWidgets": {},
     "nuid": "2e49c49a-8fe5-41a9-93db-f0aabc49eedb",
     "showTitle": false,
     "tableResultSettingsMap": {},
     "title": ""
    }
   },
   "outputs": [],
   "source": [
    "# CHECK WHERE packages installed... \n",
    "system.file(package = \"ggplot2\") ## default DBR is found earlier in search path "
   ]
  },
  {
   "cell_type": "code",
   "execution_count": 0,
   "metadata": {
    "application/vnd.databricks.v1+cell": {
     "cellMetadata": {},
     "inputWidgets": {},
     "nuid": "3d88ea6d-db91-431d-a0b3-af748768d481",
     "showTitle": false,
     "tableResultSettingsMap": {},
     "title": ""
    }
   },
   "outputs": [],
   "source": [
    "rcompanion::compareGLM"
   ]
  },
  {
   "cell_type": "code",
   "execution_count": 0,
   "metadata": {
    "application/vnd.databricks.v1+cell": {
     "cellMetadata": {},
     "inputWidgets": {},
     "nuid": "5bef483e-b12c-4b64-a3dd-8e476aa67665",
     "showTitle": false,
     "tableResultSettingsMap": {},
     "title": ""
    }
   },
   "outputs": [],
   "source": [
    "system.file(package = \"rcompanion\") "
   ]
  },
  {
   "cell_type": "code",
   "execution_count": 0,
   "metadata": {
    "application/vnd.databricks.v1+cell": {
     "cellMetadata": {},
     "inputWidgets": {},
     "nuid": "953a9f9c-9c9e-4337-b57f-b6a8fed7c8aa",
     "showTitle": false,
     "tableResultSettingsMap": {},
     "title": ""
    }
   },
   "outputs": [],
   "source": [
    "system.file(package = \"ggiraphExtra\") ## "
   ]
  },
  {
   "cell_type": "code",
   "execution_count": 0,
   "metadata": {
    "application/vnd.databricks.v1+cell": {
     "cellMetadata": {},
     "inputWidgets": {},
     "nuid": "cee1c5b0-7fd1-45bd-845c-222c23b9e5ae",
     "showTitle": false,
     "tableResultSettingsMap": {},
     "title": ""
    }
   },
   "outputs": [],
   "source": [
    "library(ggiraphExtra, lib.loc=.libPaths()[7])\n",
    "ggiraphExtra::ggBoxplot"
   ]
  },
  {
   "cell_type": "code",
   "execution_count": 0,
   "metadata": {
    "application/vnd.databricks.v1+cell": {
     "cellMetadata": {},
     "inputWidgets": {},
     "nuid": "02ebd774-288c-40c9-8a89-a2afc85d4a10",
     "showTitle": false,
     "tableResultSettingsMap": {},
     "title": ""
    }
   },
   "outputs": [],
   "source": [
    "system.file(package = \"ggplot2\") "
   ]
  },
  {
   "cell_type": "code",
   "execution_count": 0,
   "metadata": {
    "application/vnd.databricks.v1+cell": {
     "cellMetadata": {},
     "inputWidgets": {},
     "nuid": "a57f57e1-8d82-44a0-97e1-af985478ed23",
     "showTitle": false,
     "tableResultSettingsMap": {},
     "title": ""
    }
   },
   "outputs": [],
   "source": [
    "ggplot2::geom_boxplot"
   ]
  },
  {
   "cell_type": "markdown",
   "metadata": {
    "application/vnd.databricks.v1+cell": {
     "cellMetadata": {},
     "inputWidgets": {},
     "nuid": "87be3bd7-3d90-40ea-b9dd-a9accc60459c",
     "showTitle": false,
     "tableResultSettingsMap": {},
     "title": ""
    }
   },
   "source": [
    "### 3. Set up Cluster Configs:"
   ]
  },
  {
   "cell_type": "markdown",
   "metadata": {
    "application/vnd.databricks.v1+cell": {
     "cellMetadata": {},
     "inputWidgets": {},
     "nuid": "0cb41b15-0cd3-4fa3-82cd-5d33c97ab588",
     "showTitle": false,
     "tableResultSettingsMap": {},
     "title": ""
    }
   },
   "source": [
    "### 3A [Recommended]: Set the Cluster Init Scripts with path to Volumes Init Script \n",
    "\n",
    "USE Volume `init.sh` to append pre-installed libraries/packages path `{R_LIB_PATH_MOUNTED}` to `.LibPaths()` leveraging `cat <<EOL`  to insert code into `/root/.Rprofile` during cluster startup\n"
   ]
  },
  {
   "cell_type": "markdown",
   "metadata": {
    "application/vnd.databricks.v1+cell": {
     "cellMetadata": {},
     "inputWidgets": {},
     "nuid": "90128339-87ff-4c58-a54f-67478331466b",
     "showTitle": false,
     "tableResultSettingsMap": {},
     "title": ""
    }
   },
   "source": [
    "####  3A.1 We will use Python to help with `shell cmds`  \n",
    "- create + copy Init shell script `r_profile_init.sh` from Workspace to Volumes"
   ]
  },
  {
   "cell_type": "code",
   "execution_count": 0,
   "metadata": {
    "application/vnd.databricks.v1+cell": {
     "cellMetadata": {},
     "inputWidgets": {},
     "nuid": "c4b5eff0-45d2-40aa-be88-de5738861e24",
     "showTitle": true,
     "tableResultSettingsMap": {},
     "title": "Create a workspace .sh init file with the following bash code"
    }
   },
   "outputs": [],
   "source": [
    "%python\n",
    "!head -n 8 r/r_profile_init.sh"
   ]
  },
  {
   "cell_type": "code",
   "execution_count": 0,
   "metadata": {
    "application/vnd.databricks.v1+cell": {
     "cellMetadata": {},
     "inputWidgets": {},
     "nuid": "d91e569d-aa9d-4d5d-9587-a22032515964",
     "showTitle": true,
     "tableResultSettingsMap": {},
     "title": "Copy this workspace .sh file to a Volumes path for init files"
    }
   },
   "outputs": [],
   "source": [
    "%python\n",
    "!cp r/r_profile_init.sh /Volumes/mmt_external/dais24/ext_vols/init_scripts/r_profile_init.sh"
   ]
  },
  {
   "cell_type": "code",
   "execution_count": 0,
   "metadata": {
    "application/vnd.databricks.v1+cell": {
     "cellMetadata": {},
     "inputWidgets": {},
     "nuid": "3a1d6a40-9505-4d7b-b708-7592fca27f1d",
     "showTitle": true,
     "tableResultSettingsMap": {},
     "title": "Check contents of Volumes init file"
    }
   },
   "outputs": [],
   "source": [
    "%python\n",
    "!head /Volumes/mmt_external/dais24/ext_vols/init_scripts/r_profile_init.sh"
   ]
  },
  {
   "cell_type": "markdown",
   "metadata": {
    "application/vnd.databricks.v1+cell": {
     "cellMetadata": {},
     "inputWidgets": {},
     "nuid": "2f0fc7fa-4942-4ba5-ad98-e237fa2dad51",
     "showTitle": false,
     "tableResultSettingsMap": {},
     "title": ""
    }
   },
   "source": [
    "####  3A.2 Next We will specify `Init Scripts` within `Cluster Advance options`"
   ]
  },
  {
   "cell_type": "markdown",
   "metadata": {
    "application/vnd.databricks.v1+cell": {
     "cellMetadata": {
      "byteLimit": 2048000,
      "rowLimit": 10000
     },
     "inputWidgets": {},
     "nuid": "75591e0a-0ac5-4abf-b4f8-911bd31060e1",
     "showTitle": true,
     "tableResultSettingsMap": {},
     "title": "Cluster Init Scripts"
    }
   },
   "source": [
    "![Init Scripts](./markdown_images/cluster_RProfile_InitVol.png)\n",
    "\n",
    "<!-- %python\n",
    "from IPython.display import Image\n",
    "\n",
    "Image(\n",
    "    filename=\"/Workspace/Users/{user@email/com}/Faster_Lib_Loads/markdown_images/cluster_RProfile_InitVol.png\",\n",
    "    width=900,\n",
    ") -->"
   ]
  },
  {
   "cell_type": "markdown",
   "metadata": {
    "application/vnd.databricks.v1+cell": {
     "cellMetadata": {},
     "inputWidgets": {},
     "nuid": "208f2a7f-af50-4b8f-8a59-e355ade351d4",
     "showTitle": false,
     "tableResultSettingsMap": {},
     "title": ""
    }
   },
   "source": [
    "### 3B [Alternative]: Set the Cluster Environment variable `R_PROFILE_USER`\n"
   ]
  },
  {
   "cell_type": "markdown",
   "metadata": {
    "application/vnd.databricks.v1+cell": {
     "cellMetadata": {},
     "inputWidgets": {},
     "nuid": "49c3ccb8-e4f2-4bc7-af77-8f3f528936b3",
     "showTitle": false,
     "tableResultSettingsMap": {},
     "title": ""
    }
   },
   "source": [
    "####  3B.1 We will use Python and [dbutils](https://docs.databricks.com/en/dev-tools/databricks-utils.html) to  \n",
    "- set up a workspace `.Rprofile` script \n",
    "- specify `.Rprofile` script to include path `{R_LIB_PATH_MOUNTED}` to pre-installed libraries/packages during cluster startup \n",
    "- copy workspace `.Rprofile` script to mounted `{R_PROFILE_USER_PATH}`"
   ]
  },
  {
   "cell_type": "code",
   "execution_count": 0,
   "metadata": {
    "application/vnd.databricks.v1+cell": {
     "cellMetadata": {},
     "inputWidgets": {},
     "nuid": "ba113d72-1010-4c9a-81ba-0f50630a23a5",
     "showTitle": true,
     "tableResultSettingsMap": {},
     "title": "Create a workspace .Rprofile file with the following bash code"
    }
   },
   "outputs": [],
   "source": [
    "%python\n",
    "!head r/.Rprofile"
   ]
  },
  {
   "cell_type": "code",
   "execution_count": 0,
   "metadata": {
    "application/vnd.databricks.v1+cell": {
     "cellMetadata": {},
     "inputWidgets": {},
     "nuid": "84cbb0ea-bf0c-40dc-a393-a1819ecdb79e",
     "showTitle": true,
     "tableResultSettingsMap": {},
     "title": "Copy this workspace .Rprofile file to a mounted R_PROFILE_USER_PATH  "
    }
   },
   "outputs": [],
   "source": [
    "%python\n",
    "\n",
    "dbutils.fs.mkdirs(f\"{R_PROFILE_PATH}\")\n",
    "\n",
    "R_PROFILE_FILEPATH = f\"/dbfs{R_PROFILE_PATH}.Rprofile\"\n",
    "!echo $R_PROFILE_FILEPATH\n",
    "\n",
    "!cp r/.Rprofile $R_PROFILE_FILEPATH"
   ]
  },
  {
   "cell_type": "code",
   "execution_count": 0,
   "metadata": {
    "application/vnd.databricks.v1+cell": {
     "cellMetadata": {},
     "inputWidgets": {},
     "nuid": "c4490466-e8dc-4392-afbf-a368a802edc6",
     "showTitle": true,
     "tableResultSettingsMap": {},
     "title": "check contents of .Rprofile script"
    }
   },
   "outputs": [],
   "source": [
    "%python\n",
    "!head $R_PROFILE_FILEPATH"
   ]
  },
  {
   "cell_type": "markdown",
   "metadata": {
    "application/vnd.databricks.v1+cell": {
     "cellMetadata": {},
     "inputWidgets": {},
     "nuid": "6059ecd3-21b4-40bc-a5fc-cee2a1a34893",
     "showTitle": false,
     "tableResultSettingsMap": {},
     "title": ""
    }
   },
   "source": [
    "####  3B.2 Next We will specify `Environment variables` within `Cluster Advance options`\n",
    "\n",
    "`R_PROFILE_USER=/dbfs/{PROJECT_GROUP}/{PROJECT_DIR}/{DBR_version}/{clusterEnv}/r_profile/.Rprofile`\n",
    "\n"
   ]
  },
  {
   "cell_type": "markdown",
   "metadata": {
    "application/vnd.databricks.v1+cell": {
     "cellMetadata": {},
     "inputWidgets": {},
     "nuid": "3609fa4c-fb66-458a-a6ce-2bf2fb88df47",
     "showTitle": true,
     "tableResultSettingsMap": {},
     "title": "Set Cluster Env Var"
    }
   },
   "source": [
    "![cluster_RProfileUser_EnvVar](./markdown_images/cluster_RProfileUser_EnvVar.png)\n",
    "\n",
    "<!-- %python\n",
    "from IPython.display import Image\n",
    "\n",
    "Image(\n",
    "    filename=\"/Workspace/Users/{username@email/com}/Faster_Lib_Loads/markdown_images/cluster_RProfileUser_EnvVar.png\",\n",
    "    width=900,\n",
    ") -->"
   ]
  },
  {
   "cell_type": "markdown",
   "metadata": {
    "application/vnd.databricks.v1+cell": {
     "cellMetadata": {},
     "inputWidgets": {},
     "nuid": "881f499e-d1a3-4d1f-a925-cc8e8e283005",
     "showTitle": false,
     "tableResultSettingsMap": {},
     "title": ""
    }
   },
   "source": [
    "### Post Installation of Library/Packages + Cluster Init Script / Environment Variable set up\n",
    "With our Libs pre-installed + Cluster Init Script (via Volumes) OR Environment Variables set up, we will now make sure that the mounted path is Read-Only:  "
   ]
  },
  {
   "cell_type": "markdown",
   "metadata": {
    "application/vnd.databricks.v1+cell": {
     "cellMetadata": {},
     "inputWidgets": {},
     "nuid": "aaaacb9f-2c7a-4bce-9804-0c311bfdc864",
     "showTitle": false,
     "tableResultSettingsMap": {},
     "title": "[0] Mount as Read-Only"
    }
   },
   "source": [
    "### 4. Unmount + Remount Storage onto DBFS with Read-Only permissions \n",
    "Now that the Rpackages are installed,   \n",
    "We can unmount the (Azure blob) storage with `readNwrite` permissions    \n",
    "And re-mount the storage path with `read-only` permissions    \n",
    "\n",
    "*We use `Python` to facilitate this step*\n",
    "\n",
    "<!-- ```\n",
    "%python\n",
    "mountpath = PATH_MOUNTED \n",
    "dbutils.fs.unmount(mountpath)\n",
    "\n",
    "dbutils.fs.refreshMounts()\n",
    "``` -->"
   ]
  },
  {
   "cell_type": "code",
   "execution_count": 0,
   "metadata": {
    "application/vnd.databricks.v1+cell": {
     "cellMetadata": {},
     "inputWidgets": {},
     "nuid": "5df7510c-6e0c-4213-a11d-a9d5ed077cf9",
     "showTitle": true,
     "tableResultSettingsMap": {},
     "title": "Re-mount external blob storage with Read-only access token"
    }
   },
   "outputs": [],
   "source": [
    "%python\n",
    "mount_azblob(storageAccountName, blobContainerName, mountPoint, r_sasToken)"
   ]
  },
  {
   "cell_type": "code",
   "execution_count": 0,
   "metadata": {
    "application/vnd.databricks.v1+cell": {
     "cellMetadata": {},
     "inputWidgets": {},
     "nuid": "66a6f285-1560-44b1-8e1b-db47b3f22cf3",
     "showTitle": true,
     "tableResultSettingsMap": {},
     "title": "List mounts"
    }
   },
   "outputs": [],
   "source": [
    "%python\n",
    "[p for p in dbutils.fs.mounts() if \"dais24\" in p.source]"
   ]
  },
  {
   "cell_type": "code",
   "execution_count": 0,
   "metadata": {
    "application/vnd.databricks.v1+cell": {
     "cellMetadata": {},
     "inputWidgets": {},
     "nuid": "1a18ed35-636c-4f6c-bec9-f719f8b5f885",
     "showTitle": true,
     "tableResultSettingsMap": {},
     "title": "Check Read-only permissions on mount | List mount path"
    }
   },
   "outputs": [],
   "source": [
    "%fs ls \"dbfs:/mnt/dais24_demo/faster_lib_loads/14.3LTS_ML/libs/r/\""
   ]
  },
  {
   "cell_type": "code",
   "execution_count": 0,
   "metadata": {
    "application/vnd.databricks.v1+cell": {
     "cellMetadata": {},
     "inputWidgets": {},
     "nuid": "7a4822e8-4899-4671-a9d6-64d492031936",
     "showTitle": true,
     "tableResultSettingsMap": {},
     "title": "Check Read-only permissions on mount |  mkdirs: should fail if read-only Access Token is used"
    }
   },
   "outputs": [],
   "source": [
    "%fs mkdirs \"dbfs:/mnt/dais24_demo/faster_lib_loads/14.3LTS_ML/libs/test\""
   ]
  },
  {
   "cell_type": "markdown",
   "metadata": {
    "application/vnd.databricks.v1+cell": {
     "cellMetadata": {},
     "inputWidgets": {},
     "nuid": "a9972b3d-7712-4c06-9b1c-c36ba8f84ba7",
     "showTitle": false,
     "tableResultSettingsMap": {},
     "title": ""
    }
   },
   "source": [
    "### 5. Post Compute re-start/updates "
   ]
  },
  {
   "cell_type": "code",
   "execution_count": 0,
   "metadata": {
    "application/vnd.databricks.v1+cell": {
     "cellMetadata": {},
     "inputWidgets": {},
     "nuid": "cd12aad4-1475-4dd4-9084-c623cafe594e",
     "showTitle": false,
     "tableResultSettingsMap": {},
     "title": ""
    }
   },
   "outputs": [],
   "source": [
    "# - Change compute to : mmt_14.3LTSML_cpu_(fasterlibloads_r) "
   ]
  },
  {
   "cell_type": "code",
   "execution_count": 0,
   "metadata": {
    "application/vnd.databricks.v1+cell": {
     "cellMetadata": {},
     "inputWidgets": {},
     "nuid": "87ecfd3e-135e-47ce-9c9d-4a3c123b546b",
     "showTitle": true,
     "tableResultSettingsMap": {},
     "title": "re/attach compute >> mounted path to libs/r should show up!"
    }
   },
   "outputs": [],
   "source": [
    ".libPaths()"
   ]
  },
  {
   "cell_type": "markdown",
   "metadata": {
    "application/vnd.databricks.v1+cell": {
     "cellMetadata": {},
     "inputWidgets": {},
     "nuid": "f8eb5547-1447-4cdb-80b6-44cb6fd89c22",
     "showTitle": false,
     "tableResultSettingsMap": {},
     "title": ""
    }
   },
   "source": [
    "#### 5.1 [TEST] R_library loads"
   ]
  },
  {
   "cell_type": "code",
   "execution_count": 0,
   "metadata": {
    "application/vnd.databricks.v1+cell": {
     "cellMetadata": {},
     "inputWidgets": {},
     "nuid": "75575f3e-2976-47f0-8881-e76a73fccaa2",
     "showTitle": false,
     "tableResultSettingsMap": {},
     "title": ""
    }
   },
   "outputs": [],
   "source": [
    "library(rcompanion) "
   ]
  },
  {
   "cell_type": "code",
   "execution_count": 0,
   "metadata": {
    "application/vnd.databricks.v1+cell": {
     "cellMetadata": {},
     "inputWidgets": {},
     "nuid": "272e1aa2-5e02-4c09-9736-c98be67d065e",
     "showTitle": false,
     "tableResultSettingsMap": {},
     "title": ""
    }
   },
   "outputs": [],
   "source": [
    "??rcompanion "
   ]
  },
  {
   "cell_type": "code",
   "execution_count": 0,
   "metadata": {
    "application/vnd.databricks.v1+cell": {
     "cellMetadata": {},
     "inputWidgets": {},
     "nuid": "8e990adb-2761-4f82-a31c-968f516fc3ff",
     "showTitle": false,
     "tableResultSettingsMap": {},
     "title": ""
    }
   },
   "outputs": [],
   "source": [
    "rcompanion::compareGLM"
   ]
  },
  {
   "cell_type": "code",
   "execution_count": 0,
   "metadata": {
    "application/vnd.databricks.v1+cell": {
     "cellMetadata": {},
     "inputWidgets": {},
     "nuid": "d94cb2c4-84c6-4c04-9dea-022cce4a8c89",
     "showTitle": false,
     "tableResultSettingsMap": {},
     "title": ""
    }
   },
   "outputs": [],
   "source": [
    "system.file(package=\"rcompanion\")"
   ]
  },
  {
   "cell_type": "code",
   "execution_count": 0,
   "metadata": {
    "application/vnd.databricks.v1+cell": {
     "cellMetadata": {},
     "inputWidgets": {},
     "nuid": "e3868083-9bc1-4759-92b5-64887a08b41b",
     "showTitle": false,
     "tableResultSettingsMap": {},
     "title": ""
    }
   },
   "outputs": [],
   "source": [
    "system.file(package = \"ggplot2\") ## default path "
   ]
  },
  {
   "cell_type": "code",
   "execution_count": 0,
   "metadata": {
    "application/vnd.databricks.v1+cell": {
     "cellMetadata": {},
     "inputWidgets": {},
     "nuid": "188526f4-3762-46fb-bebd-2e63e1ccfd8d",
     "showTitle": false,
     "tableResultSettingsMap": {},
     "title": ""
    }
   },
   "outputs": [],
   "source": [
    "system.file(package = \"ggiraphExtra\") ## actually requires a more recent version of ggplot2 "
   ]
  },
  {
   "cell_type": "code",
   "execution_count": 0,
   "metadata": {
    "application/vnd.databricks.v1+cell": {
     "cellMetadata": {},
     "inputWidgets": {},
     "nuid": "9c3037da-affc-42f9-9d8b-fde1af7ac707",
     "showTitle": false,
     "tableResultSettingsMap": {},
     "title": ""
    }
   },
   "outputs": [],
   "source": [
    "library(\"ggiraphExtra\", lib.loc=.libPaths()[7]) ## requires specifying path for more recent version of ggplot2\n",
    "ggiraphExtra::ggBoxplot"
   ]
  },
  {
   "cell_type": "code",
   "execution_count": 0,
   "metadata": {
    "application/vnd.databricks.v1+cell": {
     "cellMetadata": {},
     "inputWidgets": {},
     "nuid": "15c56306-e72c-49fa-bfd6-4ffbf0175832",
     "showTitle": false,
     "tableResultSettingsMap": {},
     "title": ""
    }
   },
   "outputs": [],
   "source": [
    "system.file(package = \"ggplot2\") ## "
   ]
  },
  {
   "cell_type": "code",
   "execution_count": 0,
   "metadata": {
    "application/vnd.databricks.v1+cell": {
     "cellMetadata": {},
     "inputWidgets": {},
     "nuid": "5760380f-5aae-43ea-84b2-eb629d01571f",
     "showTitle": false,
     "tableResultSettingsMap": {},
     "title": ""
    }
   },
   "outputs": [],
   "source": [
    "library(ggplot2, lib.loc = .libPaths()[7])\n",
    "ggplot(diamonds, aes(carat, price, colour = clarity, group = clarity)) + geom_point(alpha = 0.3) + stat_smooth()"
   ]
  },
  {
   "cell_type": "code",
   "execution_count": 0,
   "metadata": {
    "application/vnd.databricks.v1+cell": {
     "cellMetadata": {},
     "inputWidgets": {},
     "nuid": "29e23192-07d6-4b40-9f14-2790b693052e",
     "showTitle": false,
     "tableResultSettingsMap": {},
     "title": ""
    }
   },
   "outputs": [],
   "source": [
    "diamonds"
   ]
  },
  {
   "cell_type": "code",
   "execution_count": 0,
   "metadata": {
    "application/vnd.databricks.v1+cell": {
     "cellMetadata": {},
     "inputWidgets": {},
     "nuid": "7b2f2054-4345-4e9e-afcf-49eeb001fbab",
     "showTitle": false,
     "tableResultSettingsMap": {},
     "title": ""
    }
   },
   "outputs": [],
   "source": [
    "system.file(package = \"ggplot2\") ## "
   ]
  },
  {
   "cell_type": "code",
   "execution_count": 0,
   "metadata": {
    "application/vnd.databricks.v1+cell": {
     "cellMetadata": {},
     "inputWidgets": {},
     "nuid": "a94ecbf5-d418-487e-a9ce-4699d7aad916",
     "showTitle": false,
     "tableResultSettingsMap": {},
     "title": ""
    }
   },
   "outputs": [],
   "source": []
  }
 ],
 "metadata": {
  "application/vnd.databricks.v1+notebook": {
   "computePreferences": null,
   "dashboards": [],
   "environmentMetadata": null,
   "inputWidgetPreferences": null,
   "language": "r",
   "notebookMetadata": {
    "pythonIndentUnit": 4
   },
   "notebookName": "setup_FasterClusterLibLoads_Rprofile",
   "widgets": {}
  },
  "language_info": {
   "name": "r"
  }
 },
 "nbformat": 4,
 "nbformat_minor": 0
}
